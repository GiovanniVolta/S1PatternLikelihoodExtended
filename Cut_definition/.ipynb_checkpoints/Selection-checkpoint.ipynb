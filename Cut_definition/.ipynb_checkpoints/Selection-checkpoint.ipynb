{
 "cells": [
  {
   "cell_type": "code",
   "execution_count": 1,
   "metadata": {
    "collapsed": false
   },
   "outputs": [
    {
     "name": "stdout",
     "output_type": "stream",
     "text": [
      "Initialization done, Notebook was last run on: 09/07/2019\n"
     ]
    }
   ],
   "source": [
    "%run '/home/gvolta/Desktop/Function/Useful/Def.ipynb'"
   ]
  },
  {
   "cell_type": "code",
   "execution_count": 2,
   "metadata": {
    "collapsed": true
   },
   "outputs": [],
   "source": [
    "import lax \n",
    "from lax.lichens import sciencerun1\n",
    "from lax.lichens import sciencerun0\n",
    "from lax.lichens import postsr1"
   ]
  },
  {
   "cell_type": "code",
   "execution_count": 3,
   "metadata": {
    "collapsed": false
   },
   "outputs": [],
   "source": [
    "from pax import units, configuration\n",
    "pax_config = configuration.load_configuration('XENON1T')['DEFAULT']\n",
    "tpc_height = pax_config['tpc_length']\n",
    "tpc_radius = pax_config['tpc_radius']\n",
    "\n",
    "import hax\n",
    "hax.init(experiment='XENON1T',\n",
    "         pax_version_policy = 'v6.10.1',\n",
    "         main_data_paths= ['/dali/lgrandi/xenon1t/processed/pax_v6.10.1'], \n",
    "         minitree_paths = ['/dali/lgrandi/giovo/minitrees/pax_v6.10.1',\n",
    "                           '/dali/lgrandi/xenon1t/minitrees/pax_v6.10.1'],\n",
    "         make_minitrees = False)\n",
    "\n",
    "%matplotlib inline"
   ]
  },
  {
   "cell_type": "code",
   "execution_count": 4,
   "metadata": {
    "collapsed": true
   },
   "outputs": [],
   "source": [
    "dali_path = '/dali/lgrandi/giovo/pickle_haxcache/pax_v6.10.1/'\n",
    "project_path = '/project/lgrandi/giovo/pickle_haxcache/pax_v6.10.1/'"
   ]
  },
  {
   "cell_type": "markdown",
   "metadata": {},
   "source": [
    "- /project/lgrandi/giovo/pickle_haxcache/pax_v6.10.1/Rn_1_DAQFlash_SR1_S1PL.pkl -> First data sample with Flash and DAQ cuts\n",
    "- /project/lgrandi/giovo/pickle_haxcache/pax_v6.10.1/Rn_2_DAQFlash_SR1_S1PL.pkl -> Second data sample with Flash and DAQ cuts\n",
    "- /project/lgrandi/giovo/pickle_haxcache/pax_v6.10.1/Rn_3_DAQFlash_SR1_S1PL.pkl -> Thirsd data sample with Flash and DAQ cuts\n",
    "- /project/lgrandi/giovo/pickle_haxcache/pax_v6.10.1/NG_DAQFlash_SR1_S1PL.pkl   -> Neutron Generator data with Flash and DAQ cuts"
   ]
  },
  {
   "cell_type": "markdown",
   "metadata": {},
   "source": [
    "For S2PatternLikelihood cut:\n",
    "- (project_path + 'Rn_1_SR1_S1PL.haxcache') + (project_path + 'Rn_1_S2PatternReducedAP.haxcache') -> First Rn data sample without cut\n",
    "- (project_path + 'Rn_2_SR1_S1PL.haxcache') + (project_path + 'Rn_2_S2PatternReducedAP.haxcache') -> Second Rn data sample without cut\n",
    "- (project_path + 'Rn_3_SR1_S1PL.haxcache') + (project_path + 'Rn_3_S2PatternReducedAP.haxcache') -> Third Rn data sample without cut\n",
    "- (project_path + 'NG_SR1_S1PL.haxcache') + (project_path + 'NG_S2PatternReducedAP.haxcache') -> NG data sample without cut"
   ]
  },
  {
   "cell_type": "markdown",
   "metadata": {},
   "source": [
    "### Opening data"
   ]
  },
  {
   "cell_type": "code",
   "execution_count": null,
   "metadata": {
    "collapsed": false
   },
   "outputs": [
    {
     "name": "stderr",
     "output_type": "stream",
     "text": [
      "/project/lgrandi/anaconda3/envs/pax_head/lib/python3.4/site-packages/hax-2.5.0-py3.4.egg/hax/minitrees.py:611: UserWarning: Pandas doesn't allow columns to be created via a new attribute name - see https://pandas.pydata.org/pandas-docs/stable/indexing.html#attribute-access\n",
      "  result.cut_history = store.get_storer('data').attrs.cut_history\n"
     ]
    }
   ],
   "source": [
    "file1_1 = project_path + 'Rn_1_SR1_S1PL.haxcache'\n",
    "data1_1 = hax.minitrees.load_cache_file(file1_1)\n",
    "#file1_2 = project_path + 'Rn_1_S2PatternReducedAP.haxcache'\n",
    "#data1_2 = hax.minitrees.load_cache_file(file1_2)\n",
    "\n",
    "#data1 = [data1_1, data1_2]\n",
    "#data1 = pd.concat(data1, ignore_index=True)\n",
    "#del data1_1, data1_2"
   ]
  },
  {
   "cell_type": "raw",
   "metadata": {
    "collapsed": false
   },
   "source": [
    "data1['CutFiducialization'] = (data1['z_3d_nn_tf'] < -13.45)&(data1['z_3d_nn_tf'] > -83.45)&(data1['r_3d_nn_tf'] < 39.85)\n",
    "data1 = hax.cuts.selection(data1, data1['CutFiducialization'] == True)\n",
    "data1['CutS1PatternFitExist'] = np.isnan(data1['s1_pattern_fit'])\n",
    "data1['CutCS2bExist'] = np.isnan(data1['cs2_bottom_nn_tf'])"
   ]
  },
  {
   "cell_type": "raw",
   "metadata": {
    "collapsed": true
   },
   "source": [
    "file2 = project_path + 'Rn_2_DAQFlash_SR1_S1PL.pkl'\n",
    "data = pd.read_pickle(file2)"
   ]
  },
  {
   "cell_type": "raw",
   "metadata": {
    "collapsed": true
   },
   "source": [
    "file3 = project_path + 'Rn_3_DAQFlash_SR1_S1PL.pkl'\n",
    "data = pd.read_pickle(file3)"
   ]
  },
  {
   "cell_type": "raw",
   "metadata": {
    "collapsed": true
   },
   "source": [
    "file4 = project_path + 'NG_DAQFlash_SR1_S1PL.pkl'\n",
    "data = pd.read_pickle(file4)"
   ]
  },
  {
   "cell_type": "raw",
   "metadata": {
    "collapsed": false
   },
   "source": [
    "data = [data1, data2, data3, data4]\n",
    "data = pd.concat(data, ignore_index=True)\n",
    "del data1, data2, data3, data4"
   ]
  },
  {
   "cell_type": "markdown",
   "metadata": {},
   "source": [
    "## Data"
   ]
  },
  {
   "cell_type": "raw",
   "metadata": {
    "collapsed": false
   },
   "source": [
    "for i in range(len(data.columns)): print(data.columns[i])"
   ]
  },
  {
   "cell_type": "markdown",
   "metadata": {},
   "source": [
    "CES calculated with z-dependent: https://xe1t-wiki.lngs.infn.it/doku.php?id=xenon:xenon1t:g1g2resfordec#energy_calibration_with_z-dependence_using_the_doke_method\n",
    "- g1 = (0.1432 +/- 0.0004) + (0.000049 +/- 0.000007)*z\n",
    "- g2 = (11.63 +/- 0.10) + (0.009 +/- 0.002)*z"
   ]
  },
  {
   "cell_type": "code",
   "execution_count": null,
   "metadata": {
    "collapsed": false
   },
   "outputs": [],
   "source": [
    "W = 13.7 #eV\n",
    "g1 = 0.1432 + 0.000049*data['z_3d_nn_tf']\n",
    "g2 = 11.63  + 0.009*data['z_3d_nn_tf']\n",
    "\n",
    "data['CES'] = W*((data['cs1_nn_tf']/g1) + (data['cs2_bottom_nn_tf']/g2) )"
   ]
  },
  {
   "cell_type": "code",
   "execution_count": null,
   "metadata": {
    "collapsed": false
   },
   "outputs": [],
   "source": [
    "data_distribution(data, 'x_3d_nn_tf', 'y_3d_nn_tf', 'z_3d_nn_tf', 'r_3d_nn_tf', bins=[100,100])"
   ]
  },
  {
   "cell_type": "code",
   "execution_count": null,
   "metadata": {
    "collapsed": false
   },
   "outputs": [],
   "source": [
    "plt.figure(figsize=(12,8))\n",
    "plt.hist(data['CES']/10**6, bins = (10000), \n",
    "         range=(0, 12), \n",
    "         histtype='step')\n",
    "plt.xlabel('Energy [MeV]')\n",
    "plt.ylabel('N')\n",
    "plt.yscale('log')\n",
    "\n",
    "plt.tight_layout()\n",
    "plt.show()"
   ]
  },
  {
   "cell_type": "raw",
   "metadata": {
    "collapsed": false
   },
   "source": [
    "plt.plot(data['cs1_nn_tf'], np.log10(data['cs2_nn_tf']/data['cs1_nn_tf']), \n",
    "         linestyle=' ', linewidth=1, marker='o',ms=1, color='purple')\n",
    "plt.xlabel('cs1 [PE]')\n",
    "plt.ylabel('log10(cs2/cs1)')\n",
    "\n",
    "plt.tight_layout()\n",
    "plt.show()"
   ]
  },
  {
   "cell_type": "raw",
   "metadata": {
    "collapsed": false
   },
   "source": [
    "plt.hist2d(data['cs1_nn_tf'], data['cs2_bottom_nn_tf']/100, bins = (200, 200), \n",
    "           range=((0,120000), (0,60000)), \n",
    "           cmap=plt.cm.plasma, norm=matplotlib.colors.LogNorm(), cmin = 1,alpha = 1)\n",
    "plt.colorbar(label='Number of events')\n",
    "plt.xlabel('cs1_nn_tf [PE]')\n",
    "plt.ylabel('cs2_nn_tf [PE]/100')\n",
    "\n",
    "plt.tight_layout()\n",
    "plt.show()"
   ]
  },
  {
   "cell_type": "markdown",
   "metadata": {
    "collapsed": true
   },
   "source": [
    "## Selection"
   ]
  },
  {
   "cell_type": "markdown",
   "metadata": {},
   "source": [
    "- Z in [-83.45, -13.45] cm and r < 39.85 cm for fiducialization\n",
    "- s1_pattern_fit =! NaN\n",
    "- S2 =! NaN\n",
    "- CS2AFT_Extended\n",
    "- CutS2Threshold \n",
    "- CutInteractionsPeaksBiggest\n",
    "- CutS2Width\n",
    "- CutS2SingleScatterHE"
   ]
  },
  {
   "cell_type": "code",
   "execution_count": null,
   "metadata": {
    "collapsed": false
   },
   "outputs": [],
   "source": [
    "# Tianyu new S2Singlescatter cut\n",
    "import pickle\n",
    "with open('/project2/lgrandi/zhut/s2_single_classifier_gmix_v6.10.0.pkl', 'rb') as f:\n",
    "    gmix=pickle.load(f)\n",
    "\n",
    "def classify(df):\n",
    "    df['CutS2SingleScatterHE'] = 0\n",
    "\n",
    "    mask = df.eval('(largest_other_s2>0) & (s2>0) & (largest_other_s2_pattern_fit>0) \\\n",
    "    ')\n",
    "    Y = np.concatenate([np.log10(df.loc[mask,['largest_other_s2', 'largest_other_s2_pattern_fit', 's2']]),\n",
    "                    ],\n",
    "                   axis=1)\n",
    "    df.loc[mask,'CutS2SingleScatterHE'] = gmix.predict(Y)\n",
    "    df.loc[:, 'CutS2SingleScatterHE'] = np.array(df.CutS2SingleScatterHE, bool)\n",
    "    return df"
   ]
  },
  {
   "cell_type": "code",
   "execution_count": null,
   "metadata": {
    "collapsed": false
   },
   "outputs": [],
   "source": [
    "data['CutFiducialization'] = (data['z_3d_nn_tf'] < -13.45)&(data['z_3d_nn_tf'] > -83.45)&(data['r_3d_nn_tf'] < 39.85)\n",
    "data = hax.cuts.selection(data, data['CutFiducialization'] == True)"
   ]
  },
  {
   "cell_type": "code",
   "execution_count": null,
   "metadata": {
    "collapsed": false
   },
   "outputs": [],
   "source": [
    "data = classify(data)\n",
    "data = hax.cuts.selection(data, data['CutS2SingleScatterHE'] == True)"
   ]
  },
  {
   "cell_type": "code",
   "execution_count": null,
   "metadata": {
    "collapsed": false
   },
   "outputs": [],
   "source": [
    "CutS2Threshold = sciencerun1.S2Threshold()\n",
    "data = CutS2Threshold.process(data)\n",
    "data = hax.cuts.selection(data, data['CutS2Threshold'] == True)"
   ]
  },
  {
   "cell_type": "code",
   "execution_count": null,
   "metadata": {
    "collapsed": false
   },
   "outputs": [],
   "source": [
    "CS2AFT_Extended = postsr1.CS2AreaFractionTopExtended()\n",
    "data = CS2AFT_Extended.process(data)\n",
    "data = hax.cuts.selection(data, data['CutCS2AreaFractionTopExtended'] == True)"
   ]
  },
  {
   "cell_type": "code",
   "execution_count": null,
   "metadata": {
    "collapsed": false
   },
   "outputs": [],
   "source": [
    "CutInteractionsPeaksBiggest = sciencerun1.InteractionPeaksBiggest()\n",
    "data = CutInteractionsPeaksBiggest.process(data)\n",
    "data = hax.cuts.selection(data, data['CutInteractionPeaksBiggest'] == True)"
   ]
  },
  {
   "cell_type": "code",
   "execution_count": null,
   "metadata": {
    "collapsed": false
   },
   "outputs": [],
   "source": [
    "CutS2Width = sciencerun1.S2Width()\n",
    "data = CutS2Width.process(data)\n",
    "data = hax.cuts.selection(data, data['CutS2Width'] == True)"
   ]
  },
  {
   "cell_type": "code",
   "execution_count": null,
   "metadata": {
    "collapsed": false
   },
   "outputs": [],
   "source": [
    "data['CutS1PatternFitExist'] = np.isnan(data['s1_pattern_fit'])\n",
    "data['CutCS2bExist'] = np.isnan(data['cs2_bottom_nn_tf'])\n",
    "data = hax.cuts.selection(data, data['CutS1PatternFitExist'] == False)\n",
    "data = hax.cuts.selection(data, data['CutCS2bExist'] == False)"
   ]
  },
  {
   "cell_type": "code",
   "execution_count": null,
   "metadata": {
    "collapsed": false
   },
   "outputs": [],
   "source": [
    "data.columns"
   ]
  },
  {
   "cell_type": "code",
   "execution_count": null,
   "metadata": {
    "collapsed": false
   },
   "outputs": [],
   "source": [
    "data_distribution(data, 'x_3d_nn_tf', 'y_3d_nn_tf', 'z_3d_nn_tf', 'r_3d_nn_tf', bins=[100,100])"
   ]
  },
  {
   "cell_type": "code",
   "execution_count": null,
   "metadata": {
    "collapsed": false
   },
   "outputs": [],
   "source": [
    "plt.figure(figsize=(12,8))\n",
    "plt.hist(data['CES']/10**6, bins = (10000), \n",
    "         range=(0, 12), \n",
    "         histtype='step')\n",
    "plt.xlabel('Energy [MeV]')\n",
    "plt.ylabel('N')\n",
    "plt.yscale('log')\n",
    "\n",
    "plt.tight_layout()\n",
    "plt.show()"
   ]
  },
  {
   "cell_type": "markdown",
   "metadata": {},
   "source": [
    "- /project/lgrandi/giovo/pickle_haxcache/pax_v6.10.1/Rn_1_cut_SR1_S1PL.pkl -> First data sample after pre-selection cuts\n",
    "- /project/lgrandi/giovo/pickle_haxcache/pax_v6.10.1/Rn_2_cut_SR1_S1PL.pkl -> Second data sample after pre-selection cuts\n",
    "- /project/lgrandi/giovo/pickle_haxcache/pax_v6.10.1/Rn_3_cut_SR1_S1PL.pkl -> Third data sample after pre-selection cuts\n",
    "- /project/lgrandi/giovo/pickle_haxcache/pax_v6.10.1/NG_cut_SR1_S1PL.pkl   -> Neutron Generator data after pre-selection cuts"
   ]
  },
  {
   "cell_type": "code",
   "execution_count": null,
   "metadata": {
    "collapsed": true
   },
   "outputs": [],
   "source": [
    "#data.to_pickle('/project/lgrandi/giovo/pickle_haxcache/pax_v6.10.1/Rn_1_cut_SR1_S1PL.pkl')\n",
    "#data.to_pickle('/project/lgrandi/giovo/pickle_haxcache/pax_v6.10.1/Rn_2_cut_SR1_S1PL.pkl')\n",
    "#data.to_pickle('/project/lgrandi/giovo/pickle_haxcache/pax_v6.10.1/Rn_3_cut_SR1_S1PL.pkl')\n",
    "data.to_pickle('/project/lgrandi/giovo/pickle_haxcache/pax_v6.10.1/NG_cut_SR1_S1PL.pkl')"
   ]
  },
  {
   "cell_type": "code",
   "execution_count": null,
   "metadata": {
    "collapsed": true
   },
   "outputs": [],
   "source": []
  }
 ],
 "metadata": {
  "kernelspec": {
   "display_name": "Python 3",
   "language": "python",
   "name": "python3"
  },
  "language_info": {
   "codemirror_mode": {
    "name": "ipython",
    "version": 3
   },
   "file_extension": ".py",
   "mimetype": "text/x-python",
   "name": "python",
   "nbconvert_exporter": "python",
   "pygments_lexer": "ipython3",
   "version": "3.4.4"
  }
 },
 "nbformat": 4,
 "nbformat_minor": 2
}
