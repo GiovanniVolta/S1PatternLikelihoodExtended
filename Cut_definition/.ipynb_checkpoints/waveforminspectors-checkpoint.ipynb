{
 "cells": [
  {
   "cell_type": "markdown",
   "metadata": {},
   "source": [
    "# Waveform inspector\n",
    "\n",
    "C. Tunnell, Jan 2017"
   ]
  },
  {
   "cell_type": "code",
   "execution_count": null,
   "metadata": {
    "collapsed": false
   },
   "outputs": [],
   "source": [
    "%matplotlib inline\n",
    "import matplotlib.pyplot as plt\n",
    "import numpy as np\n",
    "import hax\n",
    "from IPython.display import display\n",
    "hax.init(raw_data_local_path=['/dali/lgrandi/xenon1t/raw_for_waveforms', '/dali/lgrandi/xenon1t/raw', '/project2/lgrandi/xenon1t/raw'])\n"
   ]
  },
  {
   "cell_type": "code",
   "execution_count": null,
   "metadata": {
    "collapsed": false
   },
   "outputs": [],
   "source": [
    "#hax.ipython.code_hider()"
   ]
  },
  {
   "cell_type": "code",
   "execution_count": null,
   "metadata": {
    "collapsed": false
   },
   "outputs": [],
   "source": [
    "import mpld3\n",
    "import ipywidgets as widgets\n",
    "mpld3.enable_notebook()\n"
   ]
  },
  {
   "cell_type": "code",
   "execution_count": null,
   "metadata": {
    "collapsed": false
   },
   "outputs": [],
   "source": [
    "ds = hax.runs.datasets"
   ]
  },
  {
   "cell_type": "code",
   "execution_count": null,
   "metadata": {
    "collapsed": false
   },
   "outputs": [],
   "source": [
    "run_number_widget = widgets.BoundedIntText(\n",
    "    value=4474,\n",
    "    min=0,\n",
    "    max=ds['number'].max(),\n",
    "    step=1,\n",
    "    description='Choose a run number:',\n",
    "    disabled=False\n",
    ")"
   ]
  },
  {
   "cell_type": "code",
   "execution_count": null,
   "metadata": {
    "collapsed": false
   },
   "outputs": [],
   "source": [
    "event_number_widget = widgets.BoundedIntText(\n",
    "    step=1,\n",
    "    max = 1000,\n",
    "    value = 87,\n",
    "    min = 0,\n",
    "    description='Choose an event number:',\n",
    "    disabled=False,\n",
    "    readout=True,\n",
    ")\n"
   ]
  },
  {
   "cell_type": "code",
   "execution_count": null,
   "metadata": {
    "collapsed": false
   },
   "outputs": [],
   "source": [
    "def on_value_change(change):\n",
    "    if 'new' in change:\n",
    "        if isinstance(change['new'], int):\n",
    "            event_number_widget.value = 0\n",
    "            event_number_widget.max = ds[ds['number'] == change['new']]['trigger__events_built'].values[0]\n",
    "\n",
    "run_number_widget.observe(on_value_change)"
   ]
  },
  {
   "cell_type": "code",
   "execution_count": null,
   "metadata": {
    "collapsed": false
   },
   "outputs": [],
   "source": [
    "display(run_number_widget)\n",
    "display(event_number_widget)\n",
    "print (\"Total number of events = \", event_number_widget.max)"
   ]
  },
  {
   "cell_type": "code",
   "execution_count": null,
   "metadata": {
    "collapsed": false,
    "scrolled": true
   },
   "outputs": [],
   "source": [
    "print (event_number_widget.value)\n",
    "hax.raw_data.inspect_events(run_number_widget.value,\n",
    "                           event_number_widget.value)"
   ]
  },
  {
   "cell_type": "code",
   "execution_count": null,
   "metadata": {
    "collapsed": false
   },
   "outputs": [],
   "source": [
    "number_pulses = len(next(hax.raw_data.raw_events(run_id=run_number_widget.value,\n",
    "                                                 event_numbers=[event_number_widget.value])).pulses)"
   ]
  },
  {
   "cell_type": "code",
   "execution_count": null,
   "metadata": {
    "collapsed": true
   },
   "outputs": [],
   "source": [
    "pulse_number_widget = widgets.BoundedIntText(\n",
    "    value=0,\n",
    "    min=0,\n",
    "    max=number_pulses - 1,\n",
    ")\n",
    "display(pulse_number_widget)"
   ]
  },
  {
   "cell_type": "code",
   "execution_count": null,
   "metadata": {
    "collapsed": false
   },
   "outputs": [],
   "source": [
    "\n",
    "pmt_pulse_widget = widgets.Button(\n",
    "    description='Show PMT pulse',\n",
    "    disabled=False,\n",
    ")\n",
    "\n",
    "display(pmt_pulse_widget)\n",
    "\n",
    "def on_button_clicked(b):                     \n",
    "    for event in hax.raw_data.raw_events(run_id=run_number_widget.value,\n",
    "                                         event_numbers=[event_number_widget.value]):\n",
    "        plt.plot(event.pulses[pulse_number_widget.value].raw_data)\n",
    "        plt.ylabel(\"Raw ADC counts\")\n",
    "        plt.show()\n",
    "\n",
    "pmt_pulse_widget.on_click(on_button_clicked)\n"
   ]
  },
  {
   "cell_type": "code",
   "execution_count": null,
   "metadata": {
    "collapsed": true
   },
   "outputs": [],
   "source": []
  }
 ],
 "metadata": {
  "anaconda-cloud": {},
  "kernelspec": {
   "display_name": "Python 3",
   "language": "python",
   "name": "python3"
  },
  "language_info": {
   "codemirror_mode": {
    "name": "ipython",
    "version": 3
   },
   "file_extension": ".py",
   "mimetype": "text/x-python",
   "name": "python",
   "nbconvert_exporter": "python",
   "pygments_lexer": "ipython3",
   "version": "3.4.4"
  }
 },
 "nbformat": 4,
 "nbformat_minor": 1
}
