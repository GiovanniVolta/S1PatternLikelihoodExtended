{
 "cells": [
  {
   "cell_type": "code",
   "execution_count": 1,
   "metadata": {
    "collapsed": false
   },
   "outputs": [
    {
     "name": "stdout",
     "output_type": "stream",
     "text": [
      "Initialization done, Notebook was last run on: 24/06/2019\n"
     ]
    }
   ],
   "source": [
    "%run '/home/gvolta/Desktop/Function/Useful/Def.ipynb'"
   ]
  },
  {
   "cell_type": "code",
   "execution_count": 2,
   "metadata": {
    "collapsed": true
   },
   "outputs": [],
   "source": [
    "from pax import units, configuration\n",
    "pax_config = configuration.load_configuration('XENON1T')['DEFAULT']\n",
    "tpc_height = pax_config['tpc_length']\n",
    "tpc_radius = pax_config['tpc_radius']\n",
    "\n",
    "import hax\n",
    "hax.init(experiment='XENON1T',\n",
    "         pax_version_policy = 'v6.10.1',\n",
    "         main_data_paths= ['/dali/lgrandi/xenon1t/processed/pax_v6.10.1'], \n",
    "         minitree_paths = ['/dali/lgrandi/giovo/minitrees/pax_v6.10.1',\n",
    "                           '/dali/lgrandi/xenon1t/minitrees/pax_v6.10.1'],\n",
    "         make_minitrees = False)\n",
    "\n",
    "%matplotlib inline"
   ]
  },
  {
   "cell_type": "markdown",
   "metadata": {},
   "source": [
    "No pre-selsction applye to the follow dataframe.\n",
    "- /project/lgrandi/giovo/pickle_haxcache/pax_v6.10.1/Rn_1_SR1_S1PL.haxcache -> First data sample \n",
    "- /project/lgrandi/giovo/pickle_haxcache/pax_v6.10.1/Rn_2_SR1_S1PL.haxcache -> Second data sample \n",
    "- /project/lgrandi/giovo/pickle_haxcache/pax_v6.10.1/Rn_3_SR1_S1PL.haxcache -> Thirsd data sample \n",
    "- /project/lgrandi/giovo/pickle_haxcache/pax_v6.10.1/NG_SR1_S1PL.haxcache   -> Neutron Generator data"
   ]
  },
  {
   "cell_type": "code",
   "execution_count": 3,
   "metadata": {
    "collapsed": false
   },
   "outputs": [],
   "source": [
    "dali_path = '/dali/lgrandi/giovo/pickle_haxcache/pax_v6.10.1/'\n",
    "project_path = '/project/lgrandi/giovo/pickle_haxcache/pax_v6.10.1/'"
   ]
  },
  {
   "cell_type": "code",
   "execution_count": 4,
   "metadata": {
    "collapsed": true
   },
   "outputs": [],
   "source": [
    "DAQVeto = sciencerun1.DAQVeto()\n",
    "CutFlash = sciencerun1.Flash()"
   ]
  },
  {
   "cell_type": "markdown",
   "metadata": {},
   "source": [
    "### Rn data"
   ]
  },
  {
   "cell_type": "code",
   "execution_count": 5,
   "metadata": {
    "collapsed": false
   },
   "outputs": [
    {
     "name": "stderr",
     "output_type": "stream",
     "text": [
      "/project/lgrandi/anaconda3/envs/pax_head/lib/python3.4/site-packages/hax-2.5.0-py3.4.egg/hax/minitrees.py:611: UserWarning: Pandas doesn't allow columns to be created via a new attribute name - see https://pandas.pydata.org/pandas-docs/stable/indexing.html#attribute-access\n",
      "  result.cut_history = store.get_storer('data').attrs.cut_history\n"
     ]
    }
   ],
   "source": [
    "file = project_path + 'Rn_1_SR1_S1PL.haxcache'\n",
    "data = hax.minitrees.load_cache_file(file)"
   ]
  },
  {
   "cell_type": "code",
   "execution_count": 6,
   "metadata": {
    "collapsed": false
   },
   "outputs": [
    {
     "name": "stderr",
     "output_type": "stream",
     "text": [
      "/project/lgrandi/anaconda3/envs/pax_head/lib/python3.4/site-packages/pandas/core/indexing.py:357: SettingWithCopyWarning: \n",
      "A value is trying to be set on a copy of a slice from a DataFrame.\n",
      "Try using .loc[row_indexer,col_indexer] = value instead\n",
      "\n",
      "See the caveats in the documentation: http://pandas.pydata.org/pandas-docs/stable/indexing.html#indexing-view-versus-copy\n",
      "  self.obj[key] = _infer_fill_value(value)\n",
      "/project/lgrandi/anaconda3/envs/pax_head/lib/python3.4/site-packages/pandas/core/indexing.py:537: SettingWithCopyWarning: \n",
      "A value is trying to be set on a copy of a slice from a DataFrame.\n",
      "Try using .loc[row_indexer,col_indexer] = value instead\n",
      "\n",
      "See the caveats in the documentation: http://pandas.pydata.org/pandas-docs/stable/indexing.html#indexing-view-versus-copy\n",
      "  self.obj[item] = s\n"
     ]
    },
    {
     "name": "stdout",
     "output_type": "stream",
     "text": [
      "Unnamed selection: 186343 rows removed (75.36% passed)\n"
     ]
    },
    {
     "name": "stderr",
     "output_type": "stream",
     "text": [
      "/project/lgrandi/anaconda3/envs/pax_head/lib/python3.4/site-packages/hax-2.5.0-py3.4.egg/hax/cuts.py:130: UserWarning: Pandas doesn't allow columns to be created via a new attribute name - see https://pandas.pydata.org/pandas-docs/stable/indexing.html#attribute-access\n",
      "  d.cut_history = prev_cuts + [passthrough_dict]\n"
     ]
    },
    {
     "name": "stdout",
     "output_type": "stream",
     "text": [
      "Unnamed selection: 178489 rows removed (76.40% passed)\n",
      "Unnamed selection: 184390 rows removed (75.62% passed)\n",
      "Unnamed selection: 196370 rows removed (74.03% passed)\n",
      "Unnamed selection: 180229 rows removed (76.17% passed)\n",
      "Unnamed selection: 161853 rows removed (78.60% passed)\n",
      "Unnamed selection: 159802 rows removed (78.87% passed)\n",
      "Unnamed selection: 152457 rows removed (79.84% passed)\n",
      "Unnamed selection: 168667 rows removed (77.69% passed)\n",
      "Unnamed selection: 171817 rows removed (77.28% passed)\n",
      "Unnamed selection: 0 rows removed (100.00% passed)\n",
      "Unnamed selection: 0 rows removed (100.00% passed)\n",
      "Unnamed selection: 0 rows removed (100.00% passed)\n",
      "Unnamed selection: 0 rows removed (100.00% passed)\n",
      "Unnamed selection: 0 rows removed (100.00% passed)\n",
      "Unnamed selection: 0 rows removed (100.00% passed)\n",
      "Unnamed selection: 0 rows removed (100.00% passed)\n",
      "Unnamed selection: 0 rows removed (100.00% passed)\n",
      "Unnamed selection: 0 rows removed (100.00% passed)\n",
      "Unnamed selection: 0 rows removed (100.00% passed)\n"
     ]
    }
   ],
   "source": [
    "data = DAQandCUT(data)\n",
    "data = FLASHandCUT(data)\n",
    "\n",
    "data.to_pickle('/project/lgrandi/giovo/pickle_haxcache/pax_v6.10.1/Rn_1_DAQFlash_SR1_S1PL.pkl')\n",
    "del data"
   ]
  },
  {
   "cell_type": "code",
   "execution_count": 7,
   "metadata": {
    "collapsed": false
   },
   "outputs": [
    {
     "name": "stderr",
     "output_type": "stream",
     "text": [
      "/project/lgrandi/anaconda3/envs/pax_head/lib/python3.4/site-packages/hax-2.5.0-py3.4.egg/hax/minitrees.py:611: UserWarning: Pandas doesn't allow columns to be created via a new attribute name - see https://pandas.pydata.org/pandas-docs/stable/indexing.html#attribute-access\n",
      "  result.cut_history = store.get_storer('data').attrs.cut_history\n",
      "/project/lgrandi/anaconda3/envs/pax_head/lib/python3.4/site-packages/pandas/core/indexing.py:357: SettingWithCopyWarning: \n",
      "A value is trying to be set on a copy of a slice from a DataFrame.\n",
      "Try using .loc[row_indexer,col_indexer] = value instead\n",
      "\n",
      "See the caveats in the documentation: http://pandas.pydata.org/pandas-docs/stable/indexing.html#indexing-view-versus-copy\n",
      "  self.obj[key] = _infer_fill_value(value)\n",
      "/project/lgrandi/anaconda3/envs/pax_head/lib/python3.4/site-packages/pandas/core/indexing.py:537: SettingWithCopyWarning: \n",
      "A value is trying to be set on a copy of a slice from a DataFrame.\n",
      "Try using .loc[row_indexer,col_indexer] = value instead\n",
      "\n",
      "See the caveats in the documentation: http://pandas.pydata.org/pandas-docs/stable/indexing.html#indexing-view-versus-copy\n",
      "  self.obj[item] = s\n"
     ]
    },
    {
     "name": "stdout",
     "output_type": "stream",
     "text": [
      "Unnamed selection: 196747 rows removed (79.37% passed)\n"
     ]
    },
    {
     "name": "stderr",
     "output_type": "stream",
     "text": [
      "/project/lgrandi/anaconda3/envs/pax_head/lib/python3.4/site-packages/hax-2.5.0-py3.4.egg/hax/cuts.py:130: UserWarning: Pandas doesn't allow columns to be created via a new attribute name - see https://pandas.pydata.org/pandas-docs/stable/indexing.html#attribute-access\n",
      "  d.cut_history = prev_cuts + [passthrough_dict]\n"
     ]
    },
    {
     "name": "stdout",
     "output_type": "stream",
     "text": [
      "Unnamed selection: 179888 rows removed (81.14% passed)\n",
      "Unnamed selection: 181132 rows removed (81.01% passed)\n",
      "Unnamed selection: 174974 rows removed (81.65% passed)\n",
      "Unnamed selection: 201757 rows removed (78.84% passed)\n",
      "Unnamed selection: 186358 rows removed (80.46% passed)\n",
      "Unnamed selection: 178850 rows removed (81.25% passed)\n",
      "Unnamed selection: 313456 rows removed (67.13% passed)\n",
      "Unnamed selection: 180949 rows removed (81.03% passed)\n",
      "Unnamed selection: 175588 rows removed (81.59% passed)\n",
      "Unnamed selection: 0 rows removed (100.00% passed)\n",
      "Unnamed selection: 0 rows removed (100.00% passed)\n",
      "Unnamed selection: 0 rows removed (100.00% passed)\n",
      "Unnamed selection: 0 rows removed (100.00% passed)\n",
      "Unnamed selection: 0 rows removed (100.00% passed)\n",
      "Unnamed selection: 0 rows removed (100.00% passed)\n",
      "Unnamed selection: 0 rows removed (100.00% passed)\n",
      "Unnamed selection: 0 rows removed (100.00% passed)\n",
      "Unnamed selection: 0 rows removed (100.00% passed)\n",
      "Unnamed selection: 0 rows removed (100.00% passed)\n"
     ]
    }
   ],
   "source": [
    "file = project_path + 'Rn_2_SR1_S1PL.haxcache'\n",
    "data = hax.minitrees.load_cache_file(file)\n",
    "\n",
    "data = DAQandCUT(data)\n",
    "data = FLASHandCUT(data)\n",
    "\n",
    "data.to_pickle('/project/lgrandi/giovo/pickle_haxcache/pax_v6.10.1/Rn_2_DAQFlash_SR1_S1PL.pkl')\n",
    "del data"
   ]
  },
  {
   "cell_type": "code",
   "execution_count": 8,
   "metadata": {
    "collapsed": false
   },
   "outputs": [
    {
     "name": "stderr",
     "output_type": "stream",
     "text": [
      "/project/lgrandi/anaconda3/envs/pax_head/lib/python3.4/site-packages/hax-2.5.0-py3.4.egg/hax/minitrees.py:611: UserWarning: Pandas doesn't allow columns to be created via a new attribute name - see https://pandas.pydata.org/pandas-docs/stable/indexing.html#attribute-access\n",
      "  result.cut_history = store.get_storer('data').attrs.cut_history\n",
      "/project/lgrandi/anaconda3/envs/pax_head/lib/python3.4/site-packages/pandas/core/indexing.py:357: SettingWithCopyWarning: \n",
      "A value is trying to be set on a copy of a slice from a DataFrame.\n",
      "Try using .loc[row_indexer,col_indexer] = value instead\n",
      "\n",
      "See the caveats in the documentation: http://pandas.pydata.org/pandas-docs/stable/indexing.html#indexing-view-versus-copy\n",
      "  self.obj[key] = _infer_fill_value(value)\n",
      "/project/lgrandi/anaconda3/envs/pax_head/lib/python3.4/site-packages/pandas/core/indexing.py:537: SettingWithCopyWarning: \n",
      "A value is trying to be set on a copy of a slice from a DataFrame.\n",
      "Try using .loc[row_indexer,col_indexer] = value instead\n",
      "\n",
      "See the caveats in the documentation: http://pandas.pydata.org/pandas-docs/stable/indexing.html#indexing-view-versus-copy\n",
      "  self.obj[item] = s\n"
     ]
    },
    {
     "name": "stdout",
     "output_type": "stream",
     "text": [
      "Unnamed selection: 121877 rows removed (80.41% passed)\n"
     ]
    },
    {
     "name": "stderr",
     "output_type": "stream",
     "text": [
      "/project/lgrandi/anaconda3/envs/pax_head/lib/python3.4/site-packages/hax-2.5.0-py3.4.egg/hax/cuts.py:130: UserWarning: Pandas doesn't allow columns to be created via a new attribute name - see https://pandas.pydata.org/pandas-docs/stable/indexing.html#attribute-access\n",
      "  d.cut_history = prev_cuts + [passthrough_dict]\n"
     ]
    },
    {
     "name": "stdout",
     "output_type": "stream",
     "text": [
      "Unnamed selection: 142123 rows removed (77.16% passed)\n",
      "Unnamed selection: 132952 rows removed (78.63% passed)\n",
      "Unnamed selection: 121901 rows removed (80.41% passed)\n",
      "Unnamed selection: 117769 rows removed (81.07% passed)\n",
      "Unnamed selection: 120444 rows removed (80.64% passed)\n",
      "Unnamed selection: 114221 rows removed (81.64% passed)\n",
      "Unnamed selection: 116828 rows removed (81.22% passed)\n",
      "Unnamed selection: 137123 rows removed (77.96% passed)\n",
      "Unnamed selection: 204418 rows removed (67.15% passed)\n",
      "Unnamed selection: 0 rows removed (100.00% passed)\n",
      "Unnamed selection: 0 rows removed (100.00% passed)\n",
      "Unnamed selection: 0 rows removed (100.00% passed)\n",
      "Unnamed selection: 0 rows removed (100.00% passed)\n",
      "Unnamed selection: 0 rows removed (100.00% passed)\n",
      "Unnamed selection: 0 rows removed (100.00% passed)\n",
      "Unnamed selection: 0 rows removed (100.00% passed)\n",
      "Unnamed selection: 0 rows removed (100.00% passed)\n",
      "Unnamed selection: 0 rows removed (100.00% passed)\n",
      "Unnamed selection: 0 rows removed (100.00% passed)\n"
     ]
    }
   ],
   "source": [
    "file = project_path + 'Rn_3_SR1_S1PL.haxcache'\n",
    "data = hax.minitrees.load_cache_file(file)\n",
    "\n",
    "data = DAQandCUT(data)\n",
    "data = FLASHandCUT(data)\n",
    "\n",
    "data.to_pickle('/project/lgrandi/giovo/pickle_haxcache/pax_v6.10.1/Rn_3_DAQFlash_SR1_S1PL.pkl')\n",
    "del data"
   ]
  },
  {
   "cell_type": "markdown",
   "metadata": {
    "collapsed": true
   },
   "source": [
    "### Neutron Generator data"
   ]
  },
  {
   "cell_type": "code",
   "execution_count": 9,
   "metadata": {
    "collapsed": false
   },
   "outputs": [
    {
     "name": "stderr",
     "output_type": "stream",
     "text": [
      "/project/lgrandi/anaconda3/envs/pax_head/lib/python3.4/site-packages/hax-2.5.0-py3.4.egg/hax/minitrees.py:611: UserWarning: Pandas doesn't allow columns to be created via a new attribute name - see https://pandas.pydata.org/pandas-docs/stable/indexing.html#attribute-access\n",
      "  result.cut_history = store.get_storer('data').attrs.cut_history\n",
      "/project/lgrandi/anaconda3/envs/pax_head/lib/python3.4/site-packages/pandas/core/indexing.py:357: SettingWithCopyWarning: \n",
      "A value is trying to be set on a copy of a slice from a DataFrame.\n",
      "Try using .loc[row_indexer,col_indexer] = value instead\n",
      "\n",
      "See the caveats in the documentation: http://pandas.pydata.org/pandas-docs/stable/indexing.html#indexing-view-versus-copy\n",
      "  self.obj[key] = _infer_fill_value(value)\n",
      "/project/lgrandi/anaconda3/envs/pax_head/lib/python3.4/site-packages/pandas/core/indexing.py:537: SettingWithCopyWarning: \n",
      "A value is trying to be set on a copy of a slice from a DataFrame.\n",
      "Try using .loc[row_indexer,col_indexer] = value instead\n",
      "\n",
      "See the caveats in the documentation: http://pandas.pydata.org/pandas-docs/stable/indexing.html#indexing-view-versus-copy\n",
      "  self.obj[item] = s\n"
     ]
    },
    {
     "name": "stdout",
     "output_type": "stream",
     "text": [
      "Unnamed selection: 72595 rows removed (80.50% passed)\n"
     ]
    },
    {
     "name": "stderr",
     "output_type": "stream",
     "text": [
      "/project/lgrandi/anaconda3/envs/pax_head/lib/python3.4/site-packages/hax-2.5.0-py3.4.egg/hax/cuts.py:130: UserWarning: Pandas doesn't allow columns to be created via a new attribute name - see https://pandas.pydata.org/pandas-docs/stable/indexing.html#attribute-access\n",
      "  d.cut_history = prev_cuts + [passthrough_dict]\n"
     ]
    },
    {
     "name": "stdout",
     "output_type": "stream",
     "text": [
      "Unnamed selection: 110687 rows removed (70.27% passed)\n",
      "Unnamed selection: 63421 rows removed (82.97% passed)\n",
      "Unnamed selection: 78225 rows removed (78.99% passed)\n",
      "Unnamed selection: 78120 rows removed (79.02% passed)\n",
      "Unnamed selection: 77562 rows removed (79.17% passed)\n",
      "Unnamed selection: 74919 rows removed (79.88% passed)\n",
      "Unnamed selection: 77430 rows removed (79.20% passed)\n",
      "Unnamed selection: 66022 rows removed (82.27% passed)\n",
      "Unnamed selection: 64743 rows removed (82.61% passed)\n",
      "Unnamed selection: 0 rows removed (100.00% passed)\n",
      "Unnamed selection: 0 rows removed (100.00% passed)\n",
      "Unnamed selection: 0 rows removed (100.00% passed)\n",
      "Unnamed selection: 0 rows removed (100.00% passed)\n",
      "Unnamed selection: 0 rows removed (100.00% passed)\n",
      "Unnamed selection: 0 rows removed (100.00% passed)\n",
      "Unnamed selection: 0 rows removed (100.00% passed)\n",
      "Unnamed selection: 0 rows removed (100.00% passed)\n",
      "Unnamed selection: 0 rows removed (100.00% passed)\n",
      "Unnamed selection: 0 rows removed (100.00% passed)\n"
     ]
    }
   ],
   "source": [
    "file = project_path + 'NG_SR1_S1PL.haxcache'\n",
    "data = hax.minitrees.load_cache_file(file)\n",
    "\n",
    "data = DAQandCUT(data)\n",
    "data = FLASHandCUT(data)\n",
    "\n",
    "data.to_pickle('/project/lgrandi/giovo/pickle_haxcache/pax_v6.10.1/NG_DAQFlash_SR1_S1PL.pkl')\n",
    "del data"
   ]
  },
  {
   "cell_type": "markdown",
   "metadata": {},
   "source": [
    "- /project/lgrandi/giovo/pickle_haxcache/pax_v6.10.1/Rn_1_DAQFlash_SR1_S1PL.pkl -> First data sample with Flash and DAQ cuts\n",
    "- /project/lgrandi/giovo/pickle_haxcache/pax_v6.10.1/Rn_2_DAQFlash_SR1_S1PL.pkl -> Second data sample with Flash and DAQ cuts\n",
    "- /project/lgrandi/giovo/pickle_haxcache/pax_v6.10.1/Rn_3_DAQFlash_SR1_S1PL.pkl -> Thirsd data sample with Flash and DAQ cuts\n",
    "- /project/lgrandi/giovo/pickle_haxcache/pax_v6.10.1/NG_DAQFlash_SR1_S1PL.pkl   -> Neutron Generator data with Flash and DAQ cuts\n",
    " "
   ]
  },
  {
   "cell_type": "code",
   "execution_count": null,
   "metadata": {
    "collapsed": true
   },
   "outputs": [],
   "source": []
  }
 ],
 "metadata": {
  "kernelspec": {
   "display_name": "Python 3",
   "language": "python",
   "name": "python3"
  },
  "language_info": {
   "codemirror_mode": {
    "name": "ipython",
    "version": 3
   },
   "file_extension": ".py",
   "mimetype": "text/x-python",
   "name": "python",
   "nbconvert_exporter": "python",
   "pygments_lexer": "ipython3",
   "version": "3.4.4"
  }
 },
 "nbformat": 4,
 "nbformat_minor": 2
}
