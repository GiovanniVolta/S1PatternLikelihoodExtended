{
 "cells": [
  {
   "cell_type": "code",
   "execution_count": 1,
   "metadata": {
    "collapsed": false
   },
   "outputs": [
    {
     "name": "stdout",
     "output_type": "stream",
     "text": [
      "Initialization done, Notebook was last run on: 27/06/2019\n"
     ]
    }
   ],
   "source": [
    "%run '/home/gvolta/Desktop/Function/Useful/Def.ipynb'"
   ]
  },
  {
   "cell_type": "code",
   "execution_count": 2,
   "metadata": {
    "collapsed": true
   },
   "outputs": [],
   "source": [
    "import hax\n",
    "hax.init(experiment='XENON1T',\n",
    "         pax_version_policy = '6.10.1',\n",
    "         main_data_paths= ['/dali/lgrandi/xenon1t/processed/pax_v6.10.1'], \n",
    "         minitree_paths = [#'/home/gvolta/minitrees_test'\n",
    "                           #'/dali/lgrandi/xenon1t/minitrees/pax_v6.10.1',\n",
    "                           '/dali/lgrandi/giovo/minitrees/pax_v6.10.1',\n",
    "                           '/project/lgrandi/giovo/minitrees/pax_v6.10.1'                           \n",
    "                          ],\n",
    "         make_minitrees = True)"
   ]
  },
  {
   "cell_type": "code",
   "execution_count": 3,
   "metadata": {
    "collapsed": false
   },
   "outputs": [
    {
     "name": "stdout",
     "output_type": "stream",
     "text": [
      "\n",
      "###############\n",
      "Number of runs: 7406\n",
      "Total livetime: 305.65 days\n",
      "Start:  2017-02-02 18:47:59\n",
      "End:  2018-02-07 01:53:39\n",
      "###############\n",
      "\n",
      "Ad hoc bad runs removal selection: 2 rows removed (99.97% passed)\n",
      "\n",
      "###############\n",
      "Number of runs: 6824\n",
      "Total livetime: 285.07 days\n",
      "Start:  2017-02-02 18:47:59\n",
      "End:  2018-02-07 01:53:39\n",
      "###############\n",
      "\n",
      "\n",
      "###############\n",
      "Lenght Rn220:  306\n",
      "Number of runs: 306\n",
      "Total livetime: 12.76 days\n",
      "Start:  2017-03-13 18:17:43\n",
      "End:  2017-10-30 08:42:09\n",
      "###############\n",
      "\n",
      "\n",
      "###############\n",
      "Lenght Neutron Generator:  44\n",
      "Number of runs: 44\n",
      "Total livetime: 1.86 days\n",
      "Start:  2017-05-24 15:04:37\n",
      "End:  2017-05-30 17:27:00\n",
      "###############\n",
      "\n",
      "\n",
      "###############\n",
      "Lenght AmBe:  327\n",
      "Number of runs: 327\n",
      "Total livetime: 13.63 days\n",
      "Start:  2017-03-16 08:34:38\n",
      "End:  2017-03-31 10:33:23\n",
      "###############\n",
      "\n",
      "\n",
      "###############\n",
      "Lenght Background:  6123\n",
      "Number of runs: 6123\n",
      "Total livetime: 255.81 days\n",
      "Start:  2017-02-02 18:47:59\n",
      "End:  2018-02-07 01:53:39\n",
      "###############\n",
      "\n"
     ]
    },
    {
     "name": "stderr",
     "output_type": "stream",
     "text": [
      "/project/lgrandi/anaconda3/envs/pax_head/lib/python3.4/site-packages/ipykernel/__main__.py:15: SettingWithCopyWarning: \n",
      "A value is trying to be set on a copy of a slice from a DataFrame.\n",
      "Try using .loc[row_indexer,col_indexer] = value instead\n",
      "\n",
      "See the caveats in the documentation: http://pandas.pydata.org/pandas-docs/stable/indexing.html#indexing-view-versus-copy\n",
      "/project/lgrandi/anaconda3/envs/pax_head/lib/python3.4/site-packages/hax-2.5.0-py3.4.egg/hax/cuts.py:130: UserWarning: Pandas doesn't allow columns to be created via a new attribute name - see https://pandas.pydata.org/pandas-docs/stable/indexing.html#attribute-access\n",
      "  d.cut_history = prev_cuts + [passthrough_dict]\n"
     ]
    }
   ],
   "source": [
    "datasets = hax.runs.datasets\n",
    "datasets = hax.runs.tags_selection(datasets, include=['sciencerun1'],\n",
    "                                   exclude= ['bad','bad,waterfilling','waterfilling, bad','flash','messy','noise',\n",
    "                                   'afterpulse','hiccup','Flash','Hiccup', 'cathode_-5kV', 'cathode_-5kv'])\n",
    "datasets = datasets[(datasets.location != '')]\n",
    "print('\\n###############')\n",
    "print_info(datasets)\n",
    "print('###############\\n')\n",
    "\n",
    "datasets_selected = datasets[((datasets['source__type']==('neutron_generator')))| \n",
    "                           ((datasets['source__type']==('rn220'))|(datasets['source__type']==('Rn220')))|\n",
    "                           ((datasets['source__type']==('AmBe')))|\n",
    "                           ((datasets['source__type']==('none')))]\n",
    "\n",
    "datasets_selected['duration'] = datasets_selected['end'].sub(datasets_selected['start'])\n",
    "datasets_selected = datasets_selected[datasets_selected['duration'] > '00:50:00']\n",
    "\n",
    "bad_runs = ['171026_2223', '170809_0406']\n",
    "datasets_selected = hax.cuts.selection(datasets_selected, np.invert(datasets_selected['name'].isin(bad_runs)), \n",
    "                                     'Ad hoc bad runs removal')\n",
    "\n",
    "#datasets_selected['run_time_s'] = pd.to_timedelta((datasets_selected.end) - pd.to_datetime(datasets_selected.start)).dt.seconds\n",
    "\n",
    "print('\\n###############')\n",
    "print_info(datasets_selected)\n",
    "print('###############\\n')\n",
    "\n",
    "#datasets_selected = datasets_selected[(datasets_selected['start'] > pd.to_datetime('20180301', format='%Y%m%d', errors='ignore'))]\n",
    "\n",
    "#print('\\n###############')\n",
    "#print_info(datasets_selected)\n",
    "#print('###############\\n')\n",
    "\n",
    "Rn = datasets_selected[(datasets_selected['source__type']==('rn220'))|\n",
    "                       (datasets_selected['source__type']==('Rn220'))&\n",
    "                       ((datasets_selected['start'] < pd.to_datetime('20170701', format='%Y%m%d', errors='ignore'))|\n",
    "                       (datasets_selected['start'] > pd.to_datetime('20170801', format='%Y%m%d', errors='ignore')))]\n",
    "print('\\n###############')\n",
    "print('Lenght Rn220: ', len(Rn))\n",
    "print_info(Rn)\n",
    "print('###############\\n')\n",
    "\n",
    "NG = datasets_selected[(datasets_selected['source__type']==('neutron_generator'))]\n",
    "\n",
    "print('\\n###############')\n",
    "print('Lenght Neutron Generator: ', len(NG))\n",
    "print_info(NG)\n",
    "print('###############\\n')\n",
    "\n",
    "AmBe = datasets_selected[(datasets_selected['source__type']==('AmBe'))]\n",
    "\n",
    "print('\\n###############')\n",
    "print('Lenght AmBe: ', len(AmBe))\n",
    "print_info(AmBe)\n",
    "print('###############\\n')\n",
    "\n",
    "BG = datasets_selected[(datasets_selected['source__type']==('none'))]\n",
    "\n",
    "print('\\n###############')\n",
    "print('Lenght Background: ', len(BG))\n",
    "print_info(BG)\n",
    "print('###############\\n')"
   ]
  },
  {
   "cell_type": "markdown",
   "metadata": {},
   "source": [
    "### Rn data"
   ]
  },
  {
   "cell_type": "code",
   "execution_count": null,
   "metadata": {
    "collapsed": true
   },
   "outputs": [],
   "source": [
    "Rn_1 = Rn[:100]\n",
    "Rn_2 = Rn[100:200]\n",
    "Rn_3 = Rn[200:]"
   ]
  },
  {
   "cell_type": "code",
   "execution_count": null,
   "metadata": {
    "collapsed": false
   },
   "outputs": [],
   "source": [
    "dataRn_1 = hax.minitrees.load(Rn_1.name, \n",
    "                             ['Basics', 'Extended', 'Proximity', 'Corrections', 'Fundamentals', 'FlashIdentification', 'PatternReconstruction'],  \n",
    "                             force_reload=False, num_workers=10,\n",
    "                             preselection = ['cs1>0','cs2>0'])"
   ]
  },
  {
   "cell_type": "code",
   "execution_count": null,
   "metadata": {
    "collapsed": false
   },
   "outputs": [],
   "source": [
    "hax.minitrees.save_cache_file(dataRn_1, '/project/lgrandi/giovo/pickle_haxcache/pax_v6.10.1/Rn_1_SR1_S1PL.haxcache')"
   ]
  },
  {
   "cell_type": "code",
   "execution_count": null,
   "metadata": {
    "collapsed": false
   },
   "outputs": [],
   "source": [
    "dataRn_2 = hax.minitrees.load(Rn_2.name, \n",
    "                             ['Basics', 'Extended', 'Proximity', 'Corrections', 'Fundamentals', 'FlashIdentification', 'PatternReconstruction'],  \n",
    "                             force_reload=False, num_workers=10,\n",
    "                             preselection = ['cs1>0','cs2>0'])"
   ]
  },
  {
   "cell_type": "code",
   "execution_count": null,
   "metadata": {
    "collapsed": true
   },
   "outputs": [],
   "source": [
    "hax.minitrees.save_cache_file(dataRn_2, '/project/lgrandi/giovo/pickle_haxcache/pax_v6.10.1/Rn_2_SR1_S1PL.haxcache')"
   ]
  },
  {
   "cell_type": "code",
   "execution_count": null,
   "metadata": {
    "collapsed": false
   },
   "outputs": [],
   "source": [
    "dataRn_3 = hax.minitrees.load(Rn_3.name, \n",
    "                             ['Basics', 'Extended', 'Proximity', 'Corrections', 'Fundamentals', 'FlashIdentification', 'PatternReconstruction'],  \n",
    "                             force_reload=False, num_workers=10,\n",
    "                             preselection = ['cs1>0','cs2>0'])"
   ]
  },
  {
   "cell_type": "code",
   "execution_count": null,
   "metadata": {
    "collapsed": true
   },
   "outputs": [],
   "source": [
    "hax.minitrees.save_cache_file(dataRn_3, '/project/lgrandi/giovo/pickle_haxcache/pax_v6.10.1/Rn_3_SR1_S1PL.haxcache')"
   ]
  },
  {
   "cell_type": "markdown",
   "metadata": {},
   "source": [
    "### Neutron Generator data"
   ]
  },
  {
   "cell_type": "code",
   "execution_count": null,
   "metadata": {
    "collapsed": false
   },
   "outputs": [],
   "source": [
    "dataNG = hax.minitrees.load(NG.name, \n",
    "                            ['Basics', 'Extended', 'Proximity', 'Corrections', 'Fundamentals', 'FlashIdentification', 'PatternReconstruction'],  \n",
    "                            force_reload=False, num_workers=10,\n",
    "                            preselection = ['cs1>0','cs2>0'])"
   ]
  },
  {
   "cell_type": "code",
   "execution_count": null,
   "metadata": {
    "collapsed": true
   },
   "outputs": [],
   "source": [
    "hax.minitrees.save_cache_file(dataNG, '/project/lgrandi/giovo/pickle_haxcache/pax_v6.10.1/NG_SR1_S1PL.haxcache')"
   ]
  },
  {
   "cell_type": "markdown",
   "metadata": {},
   "source": [
    "### Background data"
   ]
  },
  {
   "cell_type": "code",
   "execution_count": null,
   "metadata": {
    "collapsed": false
   },
   "outputs": [
    {
     "name": "stdout",
     "output_type": "stream",
     "text": [
      "\n",
      "###############\n",
      "Lenght Background 1:  1000\n",
      "Number of runs: 1000\n",
      "Total livetime: 42.01 days\n",
      "Start:  2017-02-02 18:47:59\n",
      "End:  2017-04-20 22:11:36\n",
      "###############\n",
      "\n",
      "\n",
      "###############\n",
      "Lenght Background 2:  1000\n",
      "Number of runs: 1000\n",
      "Total livetime: 41.85 days\n",
      "Start:  2017-04-20 22:11:43\n",
      "End:  2017-07-02 23:11:03\n",
      "###############\n",
      "\n",
      "\n",
      "###############\n",
      "Lenght Background 3:  1000\n",
      "Number of runs: 1000\n",
      "Total livetime: 41.70 days\n",
      "Start:  2017-07-02 23:11:10\n",
      "End:  2017-09-05 12:12:00\n",
      "###############\n",
      "\n",
      "\n",
      "###############\n",
      "Lenght Background 4:  1000\n",
      "Number of runs: 1000\n",
      "Total livetime: 41.71 days\n",
      "Start:  2017-09-05 12:12:08\n",
      "End:  2017-10-22 06:29:45\n",
      "###############\n",
      "\n",
      "\n",
      "###############\n",
      "Lenght Background 5:  1000\n",
      "Number of runs: 1000\n",
      "Total livetime: 41.71 days\n",
      "Start:  2017-10-22 06:29:53\n",
      "End:  2017-12-14 14:23:22\n",
      "###############\n",
      "\n",
      "\n",
      "###############\n",
      "Lenght Background 6:  1123\n",
      "Number of runs: 1123\n",
      "Total livetime: 46.83 days\n",
      "Start:  2017-12-14 14:23:32\n",
      "End:  2018-02-07 01:53:39\n",
      "###############\n",
      "\n"
     ]
    }
   ],
   "source": [
    "Bg_1 = BG[:1000]\n",
    "Bg_2 = BG[1000:2000]\n",
    "Bg_3 = BG[2000:3000]\n",
    "Bg_4 = BG[3000:4000]\n",
    "Bg_5 = BG[4000:5000]\n",
    "Bg_6 = BG[5000:]\n",
    "print('\\n###############')\n",
    "print('Lenght Background 1: ', len(Bg_1))\n",
    "print_info(Bg_1)\n",
    "print('###############\\n')\n",
    "print('\\n###############')\n",
    "print('Lenght Background 2: ', len(Bg_2))\n",
    "print_info(Bg_2)\n",
    "print('###############\\n')\n",
    "print('\\n###############')\n",
    "print('Lenght Background 3: ', len(Bg_3))\n",
    "print_info(Bg_3)\n",
    "print('###############\\n')\n",
    "print('\\n###############')\n",
    "print('Lenght Background 4: ', len(Bg_4))\n",
    "print_info(Bg_4)\n",
    "print('###############\\n')\n",
    "print('\\n###############')\n",
    "print('Lenght Background 5: ', len(Bg_5))\n",
    "print_info(Bg_5)\n",
    "print('###############\\n')\n",
    "print('\\n###############')\n",
    "print('Lenght Background 6: ', len(Bg_6))\n",
    "print_info(Bg_6)\n",
    "print('###############\\n')"
   ]
  },
  {
   "cell_type": "code",
   "execution_count": null,
   "metadata": {
    "collapsed": false
   },
   "outputs": [
    {
     "name": "stderr",
     "output_type": "stream",
     "text": [
      "/project/lgrandi/anaconda3/envs/pax_head/lib/python3.4/site-packages/hax-2.5.0-py3.4.egg/hax/cuts.py:130: UserWarning: Pandas doesn't allow columns to be created via a new attribute name - see https://pandas.pydata.org/pandas-docs/stable/indexing.html#attribute-access\n",
      "  d.cut_history = prev_cuts + [passthrough_dict]\n",
      "Run 170312_0312: Making Extended minitree:   0%|          | 404/186087 [00:02<20:42, 149.47it/s]]Using TensorFlow backend.\n",
      "Using TensorFlow backend.\n",
      "Using TensorFlow backend.\n",
      "Using TensorFlow backend.\n",
      "Run 170312_2346: Making Extended minitree:   3%|▎         | 713/21872 [00:04<02:00, 176.03it/s]s]/project/lgrandi/anaconda3/envs/pax_head/lib/python3.4/site-packages/pymongo/topology.py:149: UserWarning: MongoClient opened before fork. Create MongoClient only after forking. See PyMongo's documentation for details: http://api.mongodb.org/python/current/faq.html#is-pymongo-fork-safe\n",
      "  \"MongoClient opened before fork. Create MongoClient only \"\n",
      "Run 170313_0046: Making Extended minitree:   4%|▍         | 935/21892 [00:04<01:35, 220.07it/s]s]/project/lgrandi/anaconda3/envs/pax_head/lib/python3.4/site-packages/pymongo/topology.py:149: UserWarning: MongoClient opened before fork. Create MongoClient only after forking. See PyMongo's documentation for details: http://api.mongodb.org/python/current/faq.html#is-pymongo-fork-safe\n",
      "  \"MongoClient opened before fork. Create MongoClient only \"\n",
      "Run 170313_0146: Making Basics minitree: 100%|██████████| 21903/21903 [00:26<00:00, 815.59it/s]/s]201.33it/s]\n",
      "Run 170312_2245: Making Corrections minitree:  19%|█▉        | 4075/21522 [00:44<03:11, 91.07it/s]206.51it/s]/project/lgrandi/anaconda3/envs/pax_head/lib/python3.4/site-packages/hax-2.5.0-py3.4.egg/hax/treemakers/corrections.py:294: RuntimeWarning: invalid value encountered in true_divide\n",
      "  per_channel_area = (per_channel_area.T / np.sum(per_channel_area, axis=-1)).T\n",
      "Run 170312_2245: Making Corrections minitree:  37%|███▋      | 7970/21522 [01:05<01:50, 122.45it/s]200.58it/s]/project/lgrandi/anaconda3/envs/pax_head/lib/python3.4/site-packages/hax-2.5.0-py3.4.egg/hax/treemakers/corrections.py:294: RuntimeWarning: invalid value encountered in true_divide\n",
      "  per_channel_area = (per_channel_area.T / np.sum(per_channel_area, axis=-1)).T\n",
      "Run 170313_0046: Making Extended minitree: 100%|██████████| 21892/21892 [01:04<00:00, 338.40it/s], 206.95it/s]\n",
      "Run 170312_2346: Making Extended minitree: 100%|██████████| 21872/21872 [01:05<00:00, 335.15it/s]s]207.25it/s]\n",
      "/project/lgrandi/anaconda3/envs/pax_head/lib/python3.4/site-packages/pymongo/topology.py:149: UserWarning: MongoClient opened before fork. Create MongoClient only after forking. See PyMongo's documentation for details: http://api.mongodb.org/python/current/faq.html#is-pymongo-fork-safe\n",
      "  \"MongoClient opened before fork. Create MongoClient only \"\n",
      "Run 170312_1945: Making Corrections minitree:  37%|███▋      | 8132/21725 [01:07<01:53, 120.03it/s]201.45it/s]/project/lgrandi/anaconda3/envs/pax_head/lib/python3.4/site-packages/pymongo/topology.py:149: UserWarning: MongoClient opened before fork. Create MongoClient only after forking. See PyMongo's documentation for details: http://api.mongodb.org/python/current/faq.html#is-pymongo-fork-safe\n",
      "  \"MongoClient opened before fork. Create MongoClient only \"\n",
      "Run 170313_0046: Making Fundamentals minitree: 100%|██████████| 21892/21892 [00:02<00:00, 10576.88it/s]45it/s]\n",
      "Run 170312_2346: Making Fundamentals minitree: 100%|██████████| 21872/21872 [00:02<00:00, 9006.09it/s].53it/s]\n",
      "Run 170313_0146: Making Extended minitree: 100%|██████████| 21903/21903 [00:50<00:00, 432.28it/s]s]]99.10it/s]\n",
      "Run 170312_0312: Making Extended minitree:  17%|█▋        | 31600/186087 [01:21<06:38, 387.58it/s] 203.17it/s]/project/lgrandi/anaconda3/envs/pax_head/lib/python3.4/site-packages/pymongo/topology.py:149: UserWarning: MongoClient opened before fork. Create MongoClient only after forking. See PyMongo's documentation for details: http://api.mongodb.org/python/current/faq.html#is-pymongo-fork-safe\n",
      "  \"MongoClient opened before fork. Create MongoClient only \"\n",
      "Run 170313_0146: Making Fundamentals minitree: 100%|██████████| 21903/21903 [00:01<00:00, 14778.45it/s]07it/s]\n",
      "Run 170312_1945: Making Corrections minitree:  70%|███████   | 15237/21725 [01:45<00:45, 144.02it/s]t/s]6it/s]"
     ]
    }
   ],
   "source": [
    "dataBg_1 = hax.minitrees.load(Bg_1.name, \n",
    "                            ['Basics', 'Extended', 'Proximity', 'Corrections', 'Fundamentals', 'FlashIdentification', 'PatternReconstruction'],  \n",
    "                            force_reload=False, num_workers=10,\n",
    "                            preselection = ['cs1>0','cs2>0'])"
   ]
  },
  {
   "cell_type": "code",
   "execution_count": null,
   "metadata": {
    "collapsed": true
   },
   "outputs": [],
   "source": [
    "hax.minitrees.save_cache_file(dataBg_1, '/project/lgrandi/giovo/pickle_haxcache/pax_v6.10.1/Bg_1_SR1_S1PL.haxcache')"
   ]
  },
  {
   "cell_type": "code",
   "execution_count": null,
   "metadata": {
    "collapsed": true
   },
   "outputs": [],
   "source": []
  }
 ],
 "metadata": {
  "kernelspec": {
   "display_name": "Python 3",
   "language": "python",
   "name": "python3"
  },
  "language_info": {
   "codemirror_mode": {
    "name": "ipython",
    "version": 3
   },
   "file_extension": ".py",
   "mimetype": "text/x-python",
   "name": "python",
   "nbconvert_exporter": "python",
   "pygments_lexer": "ipython3",
   "version": "3.4.4"
  }
 },
 "nbformat": 4,
 "nbformat_minor": 2
}
