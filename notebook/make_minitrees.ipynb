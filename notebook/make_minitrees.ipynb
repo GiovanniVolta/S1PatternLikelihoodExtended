{
 "cells": [
  {
   "cell_type": "code",
   "execution_count": 1,
   "metadata": {
    "collapsed": false
   },
   "outputs": [
    {
     "name": "stdout",
     "output_type": "stream",
     "text": [
      "Initialization done, Notebook was last run on: 31/05/2019\n"
     ]
    }
   ],
   "source": [
    "%run '/home/gvolta/Desktop/Function/Useful/Def.ipynb'"
   ]
  },
  {
   "cell_type": "code",
   "execution_count": 2,
   "metadata": {
    "collapsed": true
   },
   "outputs": [],
   "source": [
    "import hax\n",
    "hax.init(experiment='XENON1T',\n",
    "         pax_version_policy = '6.10.1',\n",
    "         main_data_paths= ['/dali/lgrandi/xenon1t/processed/pax_v6.10.1'], \n",
    "         minitree_paths = [#'/home/gvolta/minitrees_test'\n",
    "                           '/dali/lgrandi/giovo/minitrees/pax_v6.10.1',\n",
    "                           '/dali/lgrandi/xenon1t/minitrees/pax_v6.10.1'\n",
    "                          ],\n",
    "         make_minitrees = True)"
   ]
  },
  {
   "cell_type": "code",
   "execution_count": 3,
   "metadata": {
    "collapsed": false
   },
   "outputs": [
    {
     "name": "stdout",
     "output_type": "stream",
     "text": [
      "\n",
      "###############\n",
      "Number of runs: 9197\n",
      "Total livetime: 342.55 days\n",
      "Start:  2017-01-18 13:55:10\n",
      "End:  2018-02-07 01:53:39\n",
      "###############\n",
      "\n",
      "Ad hoc bad runs removal selection: 0 rows removed (100.00% passed)\n",
      "\n",
      "###############\n",
      "Number of runs: 7413\n",
      "Total livetime: 309.62 days\n",
      "Start:  2017-01-18 14:07:24\n",
      "End:  2018-02-07 01:53:39\n",
      "###############\n",
      "\n",
      "\n",
      "###############\n",
      "Lenght Rn220:  561\n",
      "Number of runs: 561\n",
      "Total livetime: 23.39 days\n",
      "Start:  2017-03-13 10:55:27\n",
      "End:  2017-10-30 08:42:09\n",
      "###############\n",
      "\n",
      "\n",
      "###############\n",
      "Lenght Neutron Generator:  46\n",
      "Number of runs: 46\n",
      "Total livetime: 1.94 days\n",
      "Start:  2017-05-24 15:04:37\n",
      "End:  2017-05-30 17:27:00\n",
      "###############\n",
      "\n",
      "\n",
      "###############\n",
      "Lenght AmBe:  340\n",
      "Number of runs: 340\n",
      "Total livetime: 14.18 days\n",
      "Start:  2017-03-16 08:34:38\n",
      "End:  2017-03-31 10:33:23\n",
      "###############\n",
      "\n",
      "\n",
      "###############\n",
      "Lenght Background:  6466\n",
      "Number of runs: 6466\n",
      "Total livetime: 270.11 days\n",
      "Start:  2017-01-18 14:07:24\n",
      "End:  2018-02-07 01:53:39\n",
      "###############\n",
      "\n"
     ]
    },
    {
     "name": "stderr",
     "output_type": "stream",
     "text": [
      "/project/lgrandi/anaconda3/envs/pax_head/lib/python3.4/site-packages/ipykernel/__main__.py:15: SettingWithCopyWarning: \n",
      "A value is trying to be set on a copy of a slice from a DataFrame.\n",
      "Try using .loc[row_indexer,col_indexer] = value instead\n",
      "\n",
      "See the caveats in the documentation: http://pandas.pydata.org/pandas-docs/stable/indexing.html#indexing-view-versus-copy\n",
      "/project/lgrandi/anaconda3/envs/pax_head/lib/python3.4/site-packages/hax-2.5.0-py3.4.egg/hax/cuts.py:130: UserWarning: Pandas doesn't allow columns to be created via a new attribute name - see https://pandas.pydata.org/pandas-docs/stable/indexing.html#attribute-access\n",
      "  d.cut_history = prev_cuts + [passthrough_dict]\n"
     ]
    }
   ],
   "source": [
    "datasets = hax.runs.datasets\n",
    "datasets = hax.runs.tags_selection(datasets, include=['*sciencerun1*'],\n",
    "                                   exclude= ['bad','bad,waterfilling','waterfilling, bad','flash','messy','noise',\n",
    "                                   'afterpulse','hiccup','Flash','Hiccup', 'cathode_-5kV', 'cathode_-5kv'])\n",
    "datasets = datasets[(datasets.location != '')]\n",
    "print('\\n###############')\n",
    "print_info(datasets)\n",
    "print('###############\\n')\n",
    "\n",
    "datasets_selected = datasets[((datasets['source__type']==('neutron_generator')))| \n",
    "                           ((datasets['source__type']==('rn220'))|(datasets['source__type']==('Rn220')))|\n",
    "                           ((datasets['source__type']==('AmBe')))|\n",
    "                           ((datasets['source__type']==('none')))]\n",
    "\n",
    "datasets_selected['duration'] = datasets_selected['end'].sub(datasets_selected['start'])\n",
    "datasets_selected = datasets_selected[datasets_selected['duration'] > '00:50:00']\n",
    "\n",
    "bad_runs = []\n",
    "datasets_selected = hax.cuts.selection(datasets_selected, np.invert(datasets_selected['name'].isin(bad_runs)), \n",
    "                                     'Ad hoc bad runs removal')\n",
    "\n",
    "#datasets_select['run_time_s'] = pd.to_timedelta((datasets_select.end) - pd.to_datetime(datasets_select.start)).dt.seconds\n",
    "\n",
    "print('\\n###############')\n",
    "print_info(datasets_selected)\n",
    "print('###############\\n')\n",
    "\n",
    "#datasets_selected = datasets_selected[(datasets_selected['start'] > pd.to_datetime('20180301', format='%Y%m%d', errors='ignore'))]\n",
    "\n",
    "#print('\\n###############')\n",
    "#print_info(datasets_selected)\n",
    "#print('###############\\n')\n",
    "\n",
    "Rn = datasets_selected[(datasets_selected['source__type']==('rn220'))|\n",
    "                       (datasets_selected['source__type']==('Rn220'))]\n",
    "                        #&datasets_selected['Check_position']==True)&(datasets_selected.location != '')]\n",
    "print('\\n###############')\n",
    "print('Lenght Rn220: ', len(Rn))\n",
    "print_info(Rn)\n",
    "print('###############\\n')\n",
    "\n",
    "NG = datasets_selected[(datasets_selected['source__type']==('neutron_generator'))]\n",
    "                        #&(datasets_selected['Check_position']==True)&(datasets_selected.location != '')]\n",
    "print('\\n###############')\n",
    "print('Lenght Neutron Generator: ', len(NG))\n",
    "print_info(NG)\n",
    "print('###############\\n')\n",
    "\n",
    "AmBe = datasets_selected[(datasets_selected['source__type']==('AmBe'))]\n",
    "                         #&(datasets_selected['Check_position']==True)&(datasets_selected.location != '')]\n",
    "print('\\n###############')\n",
    "print('Lenght AmBe: ', len(AmBe))\n",
    "print_info(AmBe)\n",
    "print('###############\\n')\n",
    "\n",
    "BG = datasets_selected[(datasets_selected['source__type']==('none'))]\n",
    "                       #&(datasets_selected['Check_position']==True)&(datasets_selected.location != '')]\n",
    "print('\\n###############')\n",
    "print('Lenght Background: ', len(BG))\n",
    "print_info(BG)\n",
    "print('###############\\n')"
   ]
  },
  {
   "cell_type": "code",
   "execution_count": 4,
   "metadata": {
    "collapsed": false,
    "scrolled": false
   },
   "outputs": [
    {
     "name": "stderr",
     "output_type": "stream",
     "text": [
      "ERROR:ROOT.TCling.RegisterModule] cannot find dictionary module pax_event_class_18a29e84de0962bfb38a9bfb94cec78d_cpp_ACLiC_dict_rdict.pcm\n",
      "WARNING:ROOT.TInterpreter.TCling.RegisterModule] Problems declaring payload for module pax_event_class_18a29e84de0962bfb38a9bfb94cec78d_cpp_ACLiC_dict.\n",
      "ERROR:ROOT.TClass.LoadClassInfo] no interpreter information for class vector<TriggerSignal> is available eventhough it has a TClass initialization routine.\n",
      "ERROR:ROOT.TUnixSystem.DispatchSignals] segmentation violation\n",
      "ERROR:stack] File \"/project/lgrandi/anaconda3/envs/pax_head/lib/python3.4/runpy.py\", line 170, in _run_module_as_main\n",
      "ERROR:stack]   \"__main__\", mod_spec)\n",
      "ERROR:stack] File \"/project/lgrandi/anaconda3/envs/pax_head/lib/python3.4/runpy.py\", line 85, in _run_code\n",
      "ERROR:stack]   exec(code, run_globals)\n",
      "ERROR:stack] File \"/project/lgrandi/anaconda3/envs/pax_head/lib/python3.4/site-packages/ipykernel/__main__.py\", line 3, in <module>\n",
      "ERROR:stack]   app.launch_new_instance()\n",
      "ERROR:stack] File \"/project/lgrandi/anaconda3/envs/pax_head/lib/python3.4/site-packages/traitlets/config/application.py\", line 658, in launch_instance\n",
      "ERROR:stack]   app.start()\n",
      "ERROR:stack] File \"/project/lgrandi/anaconda3/envs/pax_head/lib/python3.4/site-packages/ipykernel/kernelapp.py\", line 474, in start\n",
      "ERROR:stack]   ioloop.IOLoop.instance().start()\n",
      "ERROR:stack] File \"/project/lgrandi/anaconda3/envs/pax_head/lib/python3.4/site-packages/zmq/eventloop/ioloop.py\", line 177, in start\n",
      "ERROR:stack]   super(ZMQIOLoop, self).start()\n",
      "ERROR:stack] File \"/project/lgrandi/anaconda3/envs/pax_head/lib/python3.4/site-packages/tornado/ioloop.py\", line 887, in start\n",
      "ERROR:stack]   handler_func(fd_obj, events)\n",
      "ERROR:stack] File \"/project/lgrandi/anaconda3/envs/pax_head/lib/python3.4/site-packages/tornado/stack_context.py\", line 275, in null_wrapper\n",
      "ERROR:stack]   return fn(*args, **kwargs)\n",
      "ERROR:stack] File \"/project/lgrandi/anaconda3/envs/pax_head/lib/python3.4/site-packages/zmq/eventloop/zmqstream.py\", line 440, in _handle_events\n",
      "ERROR:stack]   self._handle_recv()\n",
      "ERROR:stack] File \"/project/lgrandi/anaconda3/envs/pax_head/lib/python3.4/site-packages/zmq/eventloop/zmqstream.py\", line 472, in _handle_recv\n",
      "ERROR:stack]   self._run_callback(callback, msg)\n",
      "ERROR:stack] File \"/project/lgrandi/anaconda3/envs/pax_head/lib/python3.4/site-packages/zmq/eventloop/zmqstream.py\", line 414, in _run_callback\n",
      "ERROR:stack]   callback(*args, **kwargs)\n",
      "ERROR:stack] File \"/project/lgrandi/anaconda3/envs/pax_head/lib/python3.4/site-packages/tornado/stack_context.py\", line 275, in null_wrapper\n",
      "ERROR:stack]   return fn(*args, **kwargs)\n",
      "ERROR:stack] File \"/project/lgrandi/anaconda3/envs/pax_head/lib/python3.4/site-packages/ipykernel/kernelbase.py\", line 276, in dispatcher\n",
      "ERROR:stack]   return self.dispatch_shell(stream, msg)\n",
      "ERROR:stack] File \"/project/lgrandi/anaconda3/envs/pax_head/lib/python3.4/site-packages/ipykernel/kernelbase.py\", line 228, in dispatch_shell\n",
      "ERROR:stack]   handler(stream, idents, msg)\n",
      "ERROR:stack] File \"/project/lgrandi/anaconda3/envs/pax_head/lib/python3.4/site-packages/ipykernel/kernelbase.py\", line 390, in execute_request\n",
      "ERROR:stack]   user_expressions, allow_stdin)\n",
      "ERROR:stack] File \"/project/lgrandi/anaconda3/envs/pax_head/lib/python3.4/site-packages/ipykernel/ipkernel.py\", line 196, in do_execute\n",
      "ERROR:stack]   res = shell.run_cell(code, store_history=store_history, silent=silent)\n",
      "ERROR:stack] File \"/project/lgrandi/anaconda3/envs/pax_head/lib/python3.4/site-packages/ipykernel/zmqshell.py\", line 501, in run_cell\n",
      "ERROR:stack]   return super(ZMQInteractiveShell, self).run_cell(*args, **kwargs)\n",
      "ERROR:stack] File \"/project/lgrandi/anaconda3/envs/pax_head/lib/python3.4/site-packages/IPython/core/interactiveshell.py\", line 2717, in run_cell\n",
      "ERROR:stack]   interactivity=interactivity, compiler=compiler, result=result)\n",
      "ERROR:stack] File \"/project/lgrandi/anaconda3/envs/pax_head/lib/python3.4/site-packages/IPython/core/interactiveshell.py\", line 2821, in run_ast_nodes\n",
      "ERROR:stack]   if self.run_code(code, result):\n",
      "ERROR:stack] File \"/project/lgrandi/anaconda3/envs/pax_head/lib/python3.4/site-packages/IPython/core/interactiveshell.py\", line 2881, in run_code\n",
      "ERROR:stack]   exec(code_obj, self.user_global_ns, self.user_ns)\n",
      "ERROR:stack] File \"<ipython-input-4-16f168bb93ab>\", line 2, in <module>\n",
      "ERROR:stack]   ['Basics', 'Extended', 'Proximity', 'Corrections', 'Fundamentals', 'FlashIdentification'],\n",
      "ERROR:stack] File \"/project/lgrandi/anaconda3/envs/pax_head/lib/python3.4/site-packages/hax-2.5.0-py3.4.egg/hax/minitrees.py\", line 533, in load\n",
      "ERROR:stack]   treemakers, preselection, force_reload=force_reload, event_list=event_list)\n",
      "ERROR:stack] File \"/project/lgrandi/anaconda3/envs/pax_head/lib/python3.4/site-packages/hax-2.5.0-py3.4.egg/hax/minitrees.py\", line 392, in load_single_dataset\n",
      "ERROR:stack]   run_id, treemaker, force_reload=force_reload, event_list=event_list)\n",
      "ERROR:stack] File \"/project/lgrandi/anaconda3/envs/pax_head/lib/python3.4/site-packages/hax-2.5.0-py3.4.egg/hax/minitrees.py\", line 333, in load_single_minitree\n",
      "ERROR:stack]   skimmed_data = treemaker().get_data(run_id, event_list=event_list)\n",
      "ERROR:stack] File \"/project/lgrandi/anaconda3/envs/pax_head/lib/python3.4/site-packages/hax-2.5.0-py3.4.egg/hax/minitrees.py\", line 101, in get_data\n",
      "ERROR:stack]   desc='Making %s minitree' % self.__class__.__name__)\n",
      "ERROR:stack] File \"/project/lgrandi/anaconda3/envs/pax_head/lib/python3.4/site-packages/hax-2.5.0-py3.4.egg/hax/paxroot.py\", line 165, in loop_over_datasets\n",
      "ERROR:stack]   for _ in function_results_datasets(*args, **kwargs):\n",
      "ERROR:stack] File \"/project/lgrandi/anaconda3/envs/pax_head/lib/python3.4/site-packages/hax-2.5.0-py3.4.egg/hax/paxroot.py\", line 121, in function_results_datasets\n",
      "ERROR:stack]   rootfile = open_pax_rootfile(run_id)\n",
      "ERROR:stack] File \"/project/lgrandi/anaconda3/envs/pax_head/lib/python3.4/site-packages/hax-2.5.0-py3.4.egg/hax/paxroot.py\", line 44, in open_pax_rootfile\n",
      "ERROR:stack]   return _open_pax_rootfile(get_filename(run_id), load_class=load_class)\n",
      "ERROR:stack] File \"/project/lgrandi/anaconda3/envs/pax_head/lib/python3.4/site-packages/hax-2.5.0-py3.4.egg/hax/paxroot.py\", line 55, in _open_pax_rootfile\n",
      "ERROR:stack]   load_pax_event_class_from_root(filename)\n",
      "ERROR:stack] File \"/project/lgrandi/anaconda3/envs/pax_head/lib/python3.4/site-packages/pax-6.10.1-py3.4.egg/pax/plugins/io/ROOTClass.py\", line 477, in load_pax_event_class_from_root\n",
      "ERROR:stack]   load_event_class_code(f.Get('pax_event_class').GetTitle())\n",
      "ERROR:stack] File \"/project/lgrandi/anaconda3/envs/pax_head/lib/python3.4/site-packages/pax-6.10.1-py3.4.egg/pax/plugins/io/ROOTClass.py\", line 435, in load_event_class_code\n",
      "ERROR:stack]   load_event_class(os.path.abspath(class_filename))\n",
      "ERROR:stack] File \"/project/lgrandi/anaconda3/envs/pax_head/lib/python3.4/site-packages/pax-6.10.1-py3.4.egg/pax/plugins/io/ROOTClass.py\", line 451, in load_event_class\n",
      "ERROR:stack]   if ROOT.gSystem.Load(libname) not in (0, 1):\n"
     ]
    },
    {
     "ename": "SystemError",
     "evalue": "int TUnixSystem::Load(const char* module, const char* entry = \"\", bool system = kFALSE) =>\n    problem in C++; program state has been reset",
     "output_type": "error",
     "traceback": [
      "\u001b[0;31m---------------------------------------------------------------------------\u001b[0m",
      "\u001b[0;31mSystemError\u001b[0m                               Traceback (most recent call last)",
      "\u001b[0;32m<ipython-input-4-16f168bb93ab>\u001b[0m in \u001b[0;36m<module>\u001b[0;34m()\u001b[0m\n\u001b[1;32m      1\u001b[0m dataNG = hax.minitrees.load(NG.name, \n\u001b[0;32m----> 2\u001b[0;31m                             \u001b[0;34m[\u001b[0m\u001b[0;34m'Basics'\u001b[0m\u001b[0;34m,\u001b[0m \u001b[0;34m'Extended'\u001b[0m\u001b[0;34m,\u001b[0m \u001b[0;34m'Proximity'\u001b[0m\u001b[0;34m,\u001b[0m \u001b[0;34m'Corrections'\u001b[0m\u001b[0;34m,\u001b[0m \u001b[0;34m'Fundamentals'\u001b[0m\u001b[0;34m,\u001b[0m \u001b[0;34m'FlashIdentification'\u001b[0m\u001b[0;34m]\u001b[0m\u001b[0;34m,\u001b[0m\u001b[0;34m\u001b[0m\u001b[0m\n\u001b[0m\u001b[1;32m      3\u001b[0m                            )\n\u001b[1;32m      4\u001b[0m \u001b[0;31m#force_reload=False, num_workers=10),\u001b[0m\u001b[0;34m\u001b[0m\u001b[0;34m\u001b[0m\u001b[0m\n\u001b[1;32m      5\u001b[0m \u001b[0;31m#preselection = ['cs1>0','cs2>0','z_3d_nn_tf>-100','z_3d_nn_tf<+5'],)\u001b[0m\u001b[0;34m\u001b[0m\u001b[0;34m\u001b[0m\u001b[0m\n",
      "\u001b[0;32m/project/lgrandi/anaconda3/envs/pax_head/lib/python3.4/site-packages/hax-2.5.0-py3.4.egg/hax/minitrees.py\u001b[0m in \u001b[0;36mload\u001b[0;34m(datasets, treemakers, preselection, force_reload, delayed, num_workers, compute_options, cache_file, remake_cache, event_list)\u001b[0m\n\u001b[1;32m    531\u001b[0m     df_example, _ = load_single_dataset(\n\u001b[1;32m    532\u001b[0m         \u001b[0mfirst_dset\u001b[0m\u001b[0;34m,\u001b[0m\u001b[0;34m\u001b[0m\u001b[0m\n\u001b[0;32m--> 533\u001b[0;31m         treemakers, preselection, force_reload=force_reload, event_list=event_list)\n\u001b[0m\u001b[1;32m    534\u001b[0m \u001b[0;34m\u001b[0m\u001b[0m\n\u001b[1;32m    535\u001b[0m     \u001b[0mpartial_results\u001b[0m \u001b[0;34m=\u001b[0m \u001b[0;34m[\u001b[0m\u001b[0;34m]\u001b[0m\u001b[0;34m\u001b[0m\u001b[0m\n",
      "\u001b[0;32m/project/lgrandi/anaconda3/envs/pax_head/lib/python3.4/site-packages/hax-2.5.0-py3.4.egg/hax/minitrees.py\u001b[0m in \u001b[0;36mload_single_dataset\u001b[0;34m(run_id, treemakers, preselection, force_reload, event_list, bypass_blinding)\u001b[0m\n\u001b[1;32m    390\u001b[0m         \u001b[0;32mtry\u001b[0m\u001b[0;34m:\u001b[0m\u001b[0;34m\u001b[0m\u001b[0m\n\u001b[1;32m    391\u001b[0m             dataset_frame = load_single_minitree(\n\u001b[0;32m--> 392\u001b[0;31m                 run_id, treemaker, force_reload=force_reload, event_list=event_list)\n\u001b[0m\u001b[1;32m    393\u001b[0m         \u001b[0;32mexcept\u001b[0m \u001b[0mNoMinitreeAvailable\u001b[0m \u001b[0;32mas\u001b[0m \u001b[0me\u001b[0m\u001b[0;34m:\u001b[0m\u001b[0;34m\u001b[0m\u001b[0m\n\u001b[1;32m    394\u001b[0m             \u001b[0mlog\u001b[0m\u001b[0;34m.\u001b[0m\u001b[0mdebug\u001b[0m\u001b[0;34m(\u001b[0m\u001b[0mstr\u001b[0m\u001b[0;34m(\u001b[0m\u001b[0me\u001b[0m\u001b[0;34m)\u001b[0m\u001b[0;34m)\u001b[0m\u001b[0;34m\u001b[0m\u001b[0m\n",
      "\u001b[0;32m/project/lgrandi/anaconda3/envs/pax_head/lib/python3.4/site-packages/hax-2.5.0-py3.4.egg/hax/minitrees.py\u001b[0m in \u001b[0;36mload_single_minitree\u001b[0;34m(run_id, treemaker, force_reload, return_metadata, save_file, event_list)\u001b[0m\n\u001b[1;32m    331\u001b[0m     \u001b[0;31m# We have to make the minitree file\u001b[0m\u001b[0;34m\u001b[0m\u001b[0;34m\u001b[0m\u001b[0m\n\u001b[1;32m    332\u001b[0m     \u001b[0;31m# This will raise FileNotFoundError if the root file is not found\u001b[0m\u001b[0;34m\u001b[0m\u001b[0;34m\u001b[0m\u001b[0m\n\u001b[0;32m--> 333\u001b[0;31m     \u001b[0mskimmed_data\u001b[0m \u001b[0;34m=\u001b[0m \u001b[0mtreemaker\u001b[0m\u001b[0;34m(\u001b[0m\u001b[0;34m)\u001b[0m\u001b[0;34m.\u001b[0m\u001b[0mget_data\u001b[0m\u001b[0;34m(\u001b[0m\u001b[0mrun_id\u001b[0m\u001b[0;34m,\u001b[0m \u001b[0mevent_list\u001b[0m\u001b[0;34m=\u001b[0m\u001b[0mevent_list\u001b[0m\u001b[0;34m)\u001b[0m\u001b[0;34m\u001b[0m\u001b[0m\n\u001b[0m\u001b[1;32m    334\u001b[0m \u001b[0;34m\u001b[0m\u001b[0m\n\u001b[1;32m    335\u001b[0m     log.debug(\n",
      "\u001b[0;32m/project/lgrandi/anaconda3/envs/pax_head/lib/python3.4/site-packages/hax-2.5.0-py3.4.egg/hax/minitrees.py\u001b[0m in \u001b[0;36mget_data\u001b[0;34m(self, dataset, event_list)\u001b[0m\n\u001b[1;32m     99\u001b[0m                           \u001b[0mevent_lists\u001b[0m\u001b[0;34m=\u001b[0m\u001b[0mevent_list\u001b[0m\u001b[0;34m,\u001b[0m\u001b[0;34m\u001b[0m\u001b[0m\n\u001b[1;32m    100\u001b[0m                           \u001b[0mbranch_selection\u001b[0m\u001b[0;34m=\u001b[0m\u001b[0mself\u001b[0m\u001b[0;34m.\u001b[0m\u001b[0mbranch_selection\u001b[0m\u001b[0;34m,\u001b[0m\u001b[0;34m\u001b[0m\u001b[0m\n\u001b[0;32m--> 101\u001b[0;31m                           desc='Making %s minitree' % self.__class__.__name__)\n\u001b[0m\u001b[1;32m    102\u001b[0m         \u001b[0mself\u001b[0m\u001b[0;34m.\u001b[0m\u001b[0mcheck_cache\u001b[0m\u001b[0;34m(\u001b[0m\u001b[0mforce_empty\u001b[0m\u001b[0;34m=\u001b[0m\u001b[0;32mTrue\u001b[0m\u001b[0;34m)\u001b[0m\u001b[0;34m\u001b[0m\u001b[0m\n\u001b[1;32m    103\u001b[0m         \u001b[0;32mif\u001b[0m \u001b[0;32mnot\u001b[0m \u001b[0mlen\u001b[0m\u001b[0;34m(\u001b[0m\u001b[0mself\u001b[0m\u001b[0;34m.\u001b[0m\u001b[0mdata\u001b[0m\u001b[0;34m)\u001b[0m\u001b[0;34m:\u001b[0m\u001b[0;34m\u001b[0m\u001b[0m\n",
      "\u001b[0;32m/project/lgrandi/anaconda3/envs/pax_head/lib/python3.4/site-packages/hax-2.5.0-py3.4.egg/hax/paxroot.py\u001b[0m in \u001b[0;36mloop_over_datasets\u001b[0;34m(*args, **kwargs)\u001b[0m\n\u001b[1;32m    163\u001b[0m     \u001b[0mSee\u001b[0m \u001b[0mfunction_results_datasets\u001b[0m \u001b[0;32mfor\u001b[0m \u001b[0mpossible\u001b[0m \u001b[0moptions\u001b[0m\u001b[0;34m.\u001b[0m\u001b[0;34m\u001b[0m\u001b[0m\n\u001b[1;32m    164\u001b[0m     \"\"\"\n\u001b[0;32m--> 165\u001b[0;31m     \u001b[0;32mfor\u001b[0m \u001b[0m_\u001b[0m \u001b[0;32min\u001b[0m \u001b[0mfunction_results_datasets\u001b[0m\u001b[0;34m(\u001b[0m\u001b[0;34m*\u001b[0m\u001b[0margs\u001b[0m\u001b[0;34m,\u001b[0m \u001b[0;34m**\u001b[0m\u001b[0mkwargs\u001b[0m\u001b[0;34m)\u001b[0m\u001b[0;34m:\u001b[0m\u001b[0;34m\u001b[0m\u001b[0m\n\u001b[0m\u001b[1;32m    166\u001b[0m         \u001b[0;31m# do nothing with the results\u001b[0m\u001b[0;34m\u001b[0m\u001b[0;34m\u001b[0m\u001b[0m\n\u001b[1;32m    167\u001b[0m         \u001b[0;32mpass\u001b[0m\u001b[0;34m\u001b[0m\u001b[0m\n",
      "\u001b[0;32m/project/lgrandi/anaconda3/envs/pax_head/lib/python3.4/site-packages/hax-2.5.0-py3.4.egg/hax/paxroot.py\u001b[0m in \u001b[0;36mfunction_results_datasets\u001b[0;34m(datasets_names, event_function, event_lists, branch_selection, kwargs, desc)\u001b[0m\n\u001b[1;32m    119\u001b[0m \u001b[0;34m\u001b[0m\u001b[0m\n\u001b[1;32m    120\u001b[0m     \u001b[0;32mfor\u001b[0m \u001b[0mdset_i\u001b[0m\u001b[0;34m,\u001b[0m \u001b[0mrun_id\u001b[0m \u001b[0;32min\u001b[0m \u001b[0menumerate\u001b[0m\u001b[0;34m(\u001b[0m\u001b[0mdatasets_names\u001b[0m\u001b[0;34m)\u001b[0m\u001b[0;34m:\u001b[0m\u001b[0;34m\u001b[0m\u001b[0m\n\u001b[0;32m--> 121\u001b[0;31m         \u001b[0mrootfile\u001b[0m \u001b[0;34m=\u001b[0m \u001b[0mopen_pax_rootfile\u001b[0m\u001b[0;34m(\u001b[0m\u001b[0mrun_id\u001b[0m\u001b[0;34m)\u001b[0m\u001b[0;34m\u001b[0m\u001b[0m\n\u001b[0m\u001b[1;32m    122\u001b[0m         \u001b[0;31m# If you get \"'TObject' object has no attribute 'GetEntries'\" here,\u001b[0m\u001b[0;34m\u001b[0m\u001b[0;34m\u001b[0m\u001b[0m\n\u001b[1;32m    123\u001b[0m         \u001b[0;31m# we renamed the tree to T1 or TPax or something... or you're trying to load a Xerawdp root file!\u001b[0m\u001b[0;34m\u001b[0m\u001b[0;34m\u001b[0m\u001b[0m\n",
      "\u001b[0;32m/project/lgrandi/anaconda3/envs/pax_head/lib/python3.4/site-packages/hax-2.5.0-py3.4.egg/hax/paxroot.py\u001b[0m in \u001b[0;36mopen_pax_rootfile\u001b[0;34m(run_id, load_class)\u001b[0m\n\u001b[1;32m     42\u001b[0m     \u001b[0;32mif\u001b[0m \u001b[0mload_class\u001b[0m \u001b[0;32mis\u001b[0m \u001b[0;32mFalse\u001b[0m\u001b[0;34m,\u001b[0m \u001b[0mwill\u001b[0m \u001b[0;32mnot\u001b[0m \u001b[0mload\u001b[0m \u001b[0mthe\u001b[0m \u001b[0mevent\u001b[0m \u001b[0;32mclass\u001b[0m\u001b[0;34m.\u001b[0m \u001b[0mYou\u001b[0m\u001b[0;31m'\u001b[0m\u001b[0mll\u001b[0m \u001b[0monly\u001b[0m \u001b[0mbe\u001b[0m \u001b[0mable\u001b[0m \u001b[0mto\u001b[0m \u001b[0mread\u001b[0m \u001b[0mmetadata\u001b[0m \u001b[0;32mfrom\u001b[0m \u001b[0mthe\u001b[0m \u001b[0mfile\u001b[0m\u001b[0;34m.\u001b[0m\u001b[0;34m\u001b[0m\u001b[0m\n\u001b[1;32m     43\u001b[0m     \"\"\"\n\u001b[0;32m---> 44\u001b[0;31m     \u001b[0;32mreturn\u001b[0m \u001b[0m_open_pax_rootfile\u001b[0m\u001b[0;34m(\u001b[0m\u001b[0mget_filename\u001b[0m\u001b[0;34m(\u001b[0m\u001b[0mrun_id\u001b[0m\u001b[0;34m)\u001b[0m\u001b[0;34m,\u001b[0m \u001b[0mload_class\u001b[0m\u001b[0;34m=\u001b[0m\u001b[0mload_class\u001b[0m\u001b[0;34m)\u001b[0m\u001b[0;34m\u001b[0m\u001b[0m\n\u001b[0m\u001b[1;32m     45\u001b[0m \u001b[0;34m\u001b[0m\u001b[0m\n\u001b[1;32m     46\u001b[0m \u001b[0;34m\u001b[0m\u001b[0m\n",
      "\u001b[0;32m/project/lgrandi/anaconda3/envs/pax_head/lib/python3.4/site-packages/hax-2.5.0-py3.4.egg/hax/paxroot.py\u001b[0m in \u001b[0;36m_open_pax_rootfile\u001b[0;34m(filename, load_class)\u001b[0m\n\u001b[1;32m     53\u001b[0m     \u001b[0;32mif\u001b[0m \u001b[0mload_class\u001b[0m\u001b[0;34m:\u001b[0m\u001b[0;34m\u001b[0m\u001b[0m\n\u001b[1;32m     54\u001b[0m         \u001b[0;32mtry\u001b[0m\u001b[0;34m:\u001b[0m\u001b[0;34m\u001b[0m\u001b[0m\n\u001b[0;32m---> 55\u001b[0;31m             \u001b[0mload_pax_event_class_from_root\u001b[0m\u001b[0;34m(\u001b[0m\u001b[0mfilename\u001b[0m\u001b[0;34m)\u001b[0m\u001b[0;34m\u001b[0m\u001b[0m\n\u001b[0m\u001b[1;32m     56\u001b[0m         \u001b[0;32mexcept\u001b[0m \u001b[0mMaybeOldFormatException\u001b[0m\u001b[0;34m:\u001b[0m\u001b[0;34m\u001b[0m\u001b[0m\n\u001b[1;32m     57\u001b[0m             log.warning(\"Root file %s does not include pax event class. Normal for pax < 4.5.\"\n",
      "\u001b[0;32m/project/lgrandi/anaconda3/envs/pax_head/lib/python3.4/site-packages/pax-6.10.1-py3.4.egg/pax/plugins/io/ROOTClass.py\u001b[0m in \u001b[0;36mload_pax_event_class_from_root\u001b[0;34m(rootfilename)\u001b[0m\n\u001b[1;32m    475\u001b[0m         raise exceptions.MaybeOldFormatException(\"Root file %s does not contain pax event class code.\\n \"\n\u001b[1;32m    476\u001b[0m                                                  \"Maybe it was made before March 2016? See #323.\" % rootfilename)\n\u001b[0;32m--> 477\u001b[0;31m     \u001b[0mload_event_class_code\u001b[0m\u001b[0;34m(\u001b[0m\u001b[0mf\u001b[0m\u001b[0;34m.\u001b[0m\u001b[0mGet\u001b[0m\u001b[0;34m(\u001b[0m\u001b[0;34m'pax_event_class'\u001b[0m\u001b[0;34m)\u001b[0m\u001b[0;34m.\u001b[0m\u001b[0mGetTitle\u001b[0m\u001b[0;34m(\u001b[0m\u001b[0;34m)\u001b[0m\u001b[0;34m)\u001b[0m\u001b[0;34m\u001b[0m\u001b[0m\n\u001b[0m\u001b[1;32m    478\u001b[0m     \u001b[0mf\u001b[0m\u001b[0;34m.\u001b[0m\u001b[0mClose\u001b[0m\u001b[0;34m(\u001b[0m\u001b[0;34m)\u001b[0m\u001b[0;34m\u001b[0m\u001b[0m\n\u001b[1;32m    479\u001b[0m \u001b[0;34m\u001b[0m\u001b[0m\n",
      "\u001b[0;32m/project/lgrandi/anaconda3/envs/pax_head/lib/python3.4/site-packages/pax-6.10.1-py3.4.egg/pax/plugins/io/ROOTClass.py\u001b[0m in \u001b[0;36mload_event_class_code\u001b[0;34m(class_code, lock_breaking_timeout)\u001b[0m\n\u001b[1;32m    433\u001b[0m                 \u001b[0moutfile\u001b[0m\u001b[0;34m.\u001b[0m\u001b[0mwrite\u001b[0m\u001b[0;34m(\u001b[0m\u001b[0mclass_code\u001b[0m\u001b[0;34m)\u001b[0m\u001b[0;34m\u001b[0m\u001b[0m\n\u001b[1;32m    434\u001b[0m \u001b[0;34m\u001b[0m\u001b[0m\n\u001b[0;32m--> 435\u001b[0;31m     \u001b[0mload_event_class\u001b[0m\u001b[0;34m(\u001b[0m\u001b[0mos\u001b[0m\u001b[0;34m.\u001b[0m\u001b[0mpath\u001b[0m\u001b[0;34m.\u001b[0m\u001b[0mabspath\u001b[0m\u001b[0;34m(\u001b[0m\u001b[0mclass_filename\u001b[0m\u001b[0;34m)\u001b[0m\u001b[0;34m)\u001b[0m\u001b[0;34m\u001b[0m\u001b[0m\n\u001b[0m\u001b[1;32m    436\u001b[0m \u001b[0;34m\u001b[0m\u001b[0m\n\u001b[1;32m    437\u001b[0m     \u001b[0;32mif\u001b[0m \u001b[0mwe_made_the_lockfile\u001b[0m\u001b[0;34m:\u001b[0m\u001b[0;34m\u001b[0m\u001b[0m\n",
      "\u001b[0;32m/project/lgrandi/anaconda3/envs/pax_head/lib/python3.4/site-packages/pax-6.10.1-py3.4.egg/pax/plugins/io/ROOTClass.py\u001b[0m in \u001b[0;36mload_event_class\u001b[0;34m(filename, force_recompile)\u001b[0m\n\u001b[1;32m    449\u001b[0m     \u001b[0mlibname\u001b[0m \u001b[0;34m=\u001b[0m \u001b[0mget_libname\u001b[0m\u001b[0;34m(\u001b[0m\u001b[0mfilename\u001b[0m\u001b[0;34m)\u001b[0m\u001b[0;34m\u001b[0m\u001b[0m\n\u001b[1;32m    450\u001b[0m     \u001b[0;32mif\u001b[0m \u001b[0mos\u001b[0m\u001b[0;34m.\u001b[0m\u001b[0mpath\u001b[0m\u001b[0;34m.\u001b[0m\u001b[0mexists\u001b[0m\u001b[0;34m(\u001b[0m\u001b[0mlibname\u001b[0m\u001b[0;34m)\u001b[0m \u001b[0;32mand\u001b[0m \u001b[0;32mnot\u001b[0m \u001b[0mforce_recompile\u001b[0m\u001b[0;34m:\u001b[0m\u001b[0;34m\u001b[0m\u001b[0m\n\u001b[0;32m--> 451\u001b[0;31m         \u001b[0;32mif\u001b[0m \u001b[0mROOT\u001b[0m\u001b[0;34m.\u001b[0m\u001b[0mgSystem\u001b[0m\u001b[0;34m.\u001b[0m\u001b[0mLoad\u001b[0m\u001b[0;34m(\u001b[0m\u001b[0mlibname\u001b[0m\u001b[0;34m)\u001b[0m \u001b[0;32mnot\u001b[0m \u001b[0;32min\u001b[0m \u001b[0;34m(\u001b[0m\u001b[0;36m0\u001b[0m\u001b[0;34m,\u001b[0m \u001b[0;36m1\u001b[0m\u001b[0;34m)\u001b[0m\u001b[0;34m:\u001b[0m\u001b[0;34m\u001b[0m\u001b[0m\n\u001b[0m\u001b[1;32m    452\u001b[0m             \u001b[0;32mraise\u001b[0m \u001b[0mRuntimeError\u001b[0m\u001b[0;34m(\u001b[0m\u001b[0;34m\"failed to load the library '{0}'\"\u001b[0m\u001b[0;34m.\u001b[0m\u001b[0mformat\u001b[0m\u001b[0;34m(\u001b[0m\u001b[0mlibname\u001b[0m\u001b[0;34m)\u001b[0m\u001b[0;34m)\u001b[0m\u001b[0;34m\u001b[0m\u001b[0m\n\u001b[1;32m    453\u001b[0m     \u001b[0;32melse\u001b[0m\u001b[0;34m:\u001b[0m\u001b[0;34m\u001b[0m\u001b[0m\n",
      "\u001b[0;31mSystemError\u001b[0m: int TUnixSystem::Load(const char* module, const char* entry = \"\", bool system = kFALSE) =>\n    problem in C++; program state has been reset"
     ]
    }
   ],
   "source": [
    "dataNG = hax.minitrees.load(NG.name, \n",
    "                            ['Basics', 'Extended', 'Proximity', 'Corrections', 'Fundamentals', 'FlashIdentification'],  \n",
    "                           )\n",
    "#force_reload=False, num_workers=10),\n",
    "#preselection = ['cs1>0','cs2>0','z_3d_nn_tf>-100','z_3d_nn_tf<+5'],)\n",
    "#cache_file = '/dali/lgrandi/giovo/minitrees/pax_v6.10.1/NG_SR1.haxcache')"
   ]
  },
  {
   "cell_type": "code",
   "execution_count": null,
   "metadata": {
    "collapsed": false
   },
   "outputs": [],
   "source": [
    "one_Rn = hax.minitrees.load_single_dataset(Rn.name.iloc[100],\n",
    "                                           ['Basics', 'Extended', 'Proximity', 'Corrections', 'Fundamentals', 'FlashIdentification'],  \n",
    "                                           )"
   ]
  },
  {
   "cell_type": "code",
   "execution_count": null,
   "metadata": {
    "collapsed": false
   },
   "outputs": [],
   "source": [
    "one_AmBe = hax.minitrees.load_single_dataset(AmBe.name.iloc[100],\n",
    "                                           ['Basics', 'Extended', 'Proximity', 'Corrections', 'Fundamentals', 'FlashIdentification'],  \n",
    "                                            )"
   ]
  },
  {
   "cell_type": "code",
   "execution_count": null,
   "metadata": {
    "collapsed": true
   },
   "outputs": [],
   "source": [
    "one_BG = hax.minitrees.load_single_dataset(BG.name.iloc[100],\n",
    "                                           ['Basics', 'Extended', 'Proximity', 'Corrections', 'Fundamentals', 'FlashIdentification'],  \n",
    "                                           )"
   ]
  },
  {
   "cell_type": "code",
   "execution_count": null,
   "metadata": {
    "collapsed": true
   },
   "outputs": [],
   "source": []
  }
 ],
 "metadata": {
  "kernelspec": {
   "display_name": "Python 3",
   "language": "python",
   "name": "python3"
  },
  "language_info": {
   "codemirror_mode": {
    "name": "ipython",
    "version": 3
   },
   "file_extension": ".py",
   "mimetype": "text/x-python",
   "name": "python",
   "nbconvert_exporter": "python",
   "pygments_lexer": "ipython3",
   "version": "3.4.4"
  }
 },
 "nbformat": 4,
 "nbformat_minor": 2
}
