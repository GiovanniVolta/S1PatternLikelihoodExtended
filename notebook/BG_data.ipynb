{
 "cells": [
  {
   "cell_type": "code",
   "execution_count": 1,
   "metadata": {
    "collapsed": false
   },
   "outputs": [
    {
     "name": "stdout",
     "output_type": "stream",
     "text": [
      "Initialization done, Notebook was last run on: 16/07/2019\n"
     ]
    }
   ],
   "source": [
    "%run '/home/gvolta/Desktop/Function/Useful/Def.ipynb'"
   ]
  },
  {
   "cell_type": "code",
   "execution_count": 2,
   "metadata": {
    "collapsed": true
   },
   "outputs": [],
   "source": [
    "from pax import units, configuration\n",
    "pax_config = configuration.load_configuration('XENON1T')['DEFAULT']\n",
    "tpc_height = pax_config['tpc_length']\n",
    "tpc_radius = pax_config['tpc_radius']\n",
    "\n",
    "import hax\n",
    "hax.init(experiment='XENON1T',\n",
    "         pax_version_policy = 'v6.10.1',\n",
    "         main_data_paths= ['/dali/lgrandi/xenon1t/processed/pax_v6.10.1'], \n",
    "         minitree_paths = ['/dali/lgrandi/giovo/minitrees/pax_v6.10.1',\n",
    "                           '/dali/lgrandi/xenon1t/minitrees/pax_v6.10.1'],\n",
    "         make_minitrees = False)\n",
    "\n",
    "%matplotlib inline"
   ]
  },
  {
   "cell_type": "code",
   "execution_count": 3,
   "metadata": {
    "collapsed": true
   },
   "outputs": [],
   "source": [
    "import lax \n",
    "from lax.lichens import sciencerun1\n",
    "from lax.lichens import sciencerun0\n",
    "from lax.lichens import postsr1"
   ]
  },
  {
   "cell_type": "markdown",
   "metadata": {},
   "source": [
    "## Pre-selection"
   ]
  },
  {
   "cell_type": "code",
   "execution_count": 4,
   "metadata": {
    "collapsed": false
   },
   "outputs": [],
   "source": [
    "# Tianyu new S2Singlescatter cut\n",
    "import pickle\n",
    "with open('/project2/lgrandi/zhut/s2_single_classifier_gmix_v6.10.0.pkl', 'rb') as f:\n",
    "    gmix=pickle.load(f)\n",
    "\n",
    "def classify(df):\n",
    "    df['CutS2SingleScatterHE'] = 0\n",
    "\n",
    "    mask = df.eval('(largest_other_s2>0) & (s2>0) & (largest_other_s2_pattern_fit>0) \\\n",
    "    ')\n",
    "    Y = np.concatenate([np.log10(df.loc[mask,['largest_other_s2', 'largest_other_s2_pattern_fit', 's2']]),\n",
    "                    ],\n",
    "                   axis=1)\n",
    "    df.loc[mask,'CutS2SingleScatterHE'] = gmix.predict(Y)\n",
    "    df.loc[:, 'CutS2SingleScatterHE'] = np.array(df.CutS2SingleScatterHE, bool)\n",
    "    return df\n",
    "\n",
    "CutS2Threshold = sciencerun1.S2Threshold()\n",
    "CS2AFT_Extended = postsr1.CS2AreaFractionTopExtended()\n",
    "CutInteractionsPeaksBiggest = sciencerun1.InteractionPeaksBiggest()\n",
    "CutS2Width = sciencerun1.S2Width()\n",
    "CutDAQVeto = sciencerun1.DAQVeto()\n",
    "CutFlash = sciencerun1.Flash()\n",
    "\n",
    "import sys\n",
    "sys.path.insert(0, '/home/gvolta/Desktop/SR1/S1PatternLikelihoodExtended/S2PatternLikelihood')\n",
    "# Chloe new S2PatternLikelihood cut\n",
    "from S2PatternReducedAP import S2PatternReducedAP\n",
    "from Apply_S2PatternLikelihoodCut_HE_r_phi import S2PatternLikelihood_HE"
   ]
  },
  {
   "cell_type": "markdown",
   "metadata": {},
   "source": [
    "## Data BG"
   ]
  },
  {
   "cell_type": "code",
   "execution_count": 5,
   "metadata": {
    "collapsed": true
   },
   "outputs": [],
   "source": [
    "dali_path = '/dali/lgrandi/giovo/pickle_haxcache/pax_v6.10.1/'\n",
    "project_path = '/project/lgrandi/giovo/pickle_haxcache/pax_v6.10.1/'\n",
    "bg_path = '/project/lgrandi/ccapelli/haxcache/final_SR1/'"
   ]
  },
  {
   "cell_type": "code",
   "execution_count": 6,
   "metadata": {
    "collapsed": false
   },
   "outputs": [
    {
     "name": "stderr",
     "output_type": "stream",
     "text": [
      "/project/lgrandi/anaconda3/envs/pax_head/lib/python3.4/site-packages/hax-2.5.0-py3.4.egg/hax/minitrees.py:611: UserWarning: Pandas doesn't allow columns to be created via a new attribute name - see https://pandas.pydata.org/pandas-docs/stable/indexing.html#attribute-access\n",
      "  result.cut_history = store.get_storer('data').attrs.cut_history\n"
     ]
    },
    {
     "name": "stdout",
     "output_type": "stream",
     "text": [
      "Unnamed selection: 3278158 rows removed (12.18% passed)\n"
     ]
    },
    {
     "name": "stderr",
     "output_type": "stream",
     "text": [
      "/project/lgrandi/anaconda3/envs/pax_head/lib/python3.4/site-packages/hax-2.5.0-py3.4.egg/hax/cuts.py:130: UserWarning: Pandas doesn't allow columns to be created via a new attribute name - see https://pandas.pydata.org/pandas-docs/stable/indexing.html#attribute-access\n",
      "  d.cut_history = prev_cuts + [passthrough_dict]\n"
     ]
    },
    {
     "name": "stdout",
     "output_type": "stream",
     "text": [
      "Unnamed selection: 353173 rows removed (22.33% passed)\n",
      "Unnamed selection: 5999 rows removed (94.09% passed)\n",
      "Unnamed selection: 3356 rows removed (96.49% passed)\n",
      "Unnamed selection: 430 rows removed (99.53% passed)\n",
      "Unnamed selection: 11984 rows removed (86.94% passed)\n",
      "Unnamed selection: 0 rows removed (100.00% passed)\n",
      "Unnamed selection: 0 rows removed (100.00% passed)\n",
      "Unnamed selection: 1261 rows removed (98.42% passed)\n",
      "Unnamed selection: 660 rows removed (99.16% passed)\n",
      "Unnamed selection: 45 rows removed (99.94% passed)\n"
     ]
    }
   ],
   "source": [
    "file1 = bg_path + 'bkg_SR1_pax6.10.1_p1.haxcache'\n",
    "data1 = hax.minitrees.load_cache_file(file1)\n",
    "\n",
    "data1['CutFiducialization'] = (data1['z_3d_nn_tf'] < -13.45)&(data1['z_3d_nn_tf'] > -83.45)&(data1['r_3d_nn_tf'] < 39.85)\n",
    "data1 = hax.cuts.selection(data1, data1['CutFiducialization'] == True)\n",
    "\n",
    "data1 = classify(data1)\n",
    "data1 = hax.cuts.selection(data1, data1['CutS2SingleScatterHE'] == True)\n",
    "\n",
    "data1 = CutS2Threshold.process(data1)\n",
    "data1 = hax.cuts.selection(data1, data1['CutS2Threshold'] == True)\n",
    "\n",
    "data1 = CS2AFT_Extended.process(data1)\n",
    "data1 = hax.cuts.selection(data1, data1['CutCS2AreaFractionTopExtended'] == True)\n",
    "\n",
    "data1 = CutInteractionsPeaksBiggest.process(data1)\n",
    "data1 = hax.cuts.selection(data1, data1['CutInteractionPeaksBiggest'] == True)\n",
    "\n",
    "data1 = CutS2Width.process(data1)\n",
    "data1 = hax.cuts.selection(data1, data1['CutS2Width'] == True)\n",
    "\n",
    "data1['CutS1PatternFitExist'] = np.isnan(data1['s1_pattern_fit'])\n",
    "data1['CutCS2bExist'] = np.isnan(data1['cs2_bottom_nn_tf'])\n",
    "data1 = hax.cuts.selection(data1, data1['CutS1PatternFitExist'] == False)\n",
    "data1 = hax.cuts.selection(data1, data1['CutCS2bExist'] == False)\n",
    "\n",
    "data1 = S2PatternLikelihood_HE(data1)\n",
    "data1 = hax.cuts.selection(data1, data1['CutS2PatternLikelihoodHE'] == True)\n",
    "\n",
    "data1 = CutDAQVeto.process(data1)\n",
    "data1 = hax.cuts.selection(data1, data1['CutDAQVeto'] == True)\n",
    "\n",
    "data1 = CutFlash.process(data1)\n",
    "data1 = hax.cuts.selection(data1, data1['CutFlash'] == True)"
   ]
  },
  {
   "cell_type": "code",
   "execution_count": 7,
   "metadata": {
    "collapsed": false
   },
   "outputs": [
    {
     "name": "stderr",
     "output_type": "stream",
     "text": [
      "/project/lgrandi/anaconda3/envs/pax_head/lib/python3.4/site-packages/hax-2.5.0-py3.4.egg/hax/minitrees.py:611: UserWarning: Pandas doesn't allow columns to be created via a new attribute name - see https://pandas.pydata.org/pandas-docs/stable/indexing.html#attribute-access\n",
      "  result.cut_history = store.get_storer('data').attrs.cut_history\n"
     ]
    },
    {
     "name": "stdout",
     "output_type": "stream",
     "text": [
      "Unnamed selection: 3004154 rows removed (11.95% passed)\n"
     ]
    },
    {
     "name": "stderr",
     "output_type": "stream",
     "text": [
      "/project/lgrandi/anaconda3/envs/pax_head/lib/python3.4/site-packages/hax-2.5.0-py3.4.egg/hax/cuts.py:130: UserWarning: Pandas doesn't allow columns to be created via a new attribute name - see https://pandas.pydata.org/pandas-docs/stable/indexing.html#attribute-access\n",
      "  d.cut_history = prev_cuts + [passthrough_dict]\n"
     ]
    },
    {
     "name": "stdout",
     "output_type": "stream",
     "text": [
      "Unnamed selection: 306481 rows removed (24.86% passed)\n",
      "Unnamed selection: 4223 rows removed (95.84% passed)\n",
      "Unnamed selection: 3538 rows removed (96.36% passed)\n",
      "Unnamed selection: 358 rows removed (99.62% passed)\n",
      "Unnamed selection: 10683 rows removed (88.55% passed)\n",
      "Unnamed selection: 0 rows removed (100.00% passed)\n",
      "Unnamed selection: 0 rows removed (100.00% passed)\n",
      "Unnamed selection: 1447 rows removed (98.25% passed)\n",
      "Unnamed selection: 786 rows removed (99.03% passed)\n",
      "Unnamed selection: 17 rows removed (99.98% passed)\n"
     ]
    }
   ],
   "source": [
    "file2 = bg_path + 'bkg_SR1_pax6.10.1_p2.haxcache'\n",
    "data2 = hax.minitrees.load_cache_file(file2)\n",
    "\n",
    "data2['CutFiducialization'] = (data2['z_3d_nn_tf'] < -13.45)&(data2['z_3d_nn_tf'] > -83.45)&(data2['r_3d_nn_tf'] < 39.85)\n",
    "data2 = hax.cuts.selection(data2, data2['CutFiducialization'] == True)\n",
    "\n",
    "data2 = classify(data2)\n",
    "data2 = hax.cuts.selection(data2, data2['CutS2SingleScatterHE'] == True)\n",
    "\n",
    "data2 = CutS2Threshold.process(data2)\n",
    "data2 = hax.cuts.selection(data2, data2['CutS2Threshold'] == True)\n",
    "\n",
    "data2 = CS2AFT_Extended.process(data2)\n",
    "data2 = hax.cuts.selection(data2, data2['CutCS2AreaFractionTopExtended'] == True)\n",
    "\n",
    "data2 = CutInteractionsPeaksBiggest.process(data2)\n",
    "data2 = hax.cuts.selection(data2, data2['CutInteractionPeaksBiggest'] == True)\n",
    "\n",
    "data2 = CutS2Width.process(data2)\n",
    "data2 = hax.cuts.selection(data2, data2['CutS2Width'] == True)\n",
    "\n",
    "data2['CutS1PatternFitExist'] = np.isnan(data2['s1_pattern_fit'])\n",
    "data2['CutCS2bExist'] = np.isnan(data2['cs2_bottom_nn_tf'])\n",
    "data2 = hax.cuts.selection(data2, data2['CutS1PatternFitExist'] == False)\n",
    "data2 = hax.cuts.selection(data2, data2['CutCS2bExist'] == False)\n",
    "\n",
    "data2 = S2PatternLikelihood_HE(data2)\n",
    "data2 = hax.cuts.selection(data2, data2['CutS2PatternLikelihoodHE'] == True)\n",
    "\n",
    "data2 = CutDAQVeto.process(data2)\n",
    "data2 = hax.cuts.selection(data2, data2['CutDAQVeto'] == True)\n",
    "\n",
    "data2 = CutFlash.process(data2)\n",
    "data2 = hax.cuts.selection(data2, data2['CutFlash'] == True)"
   ]
  },
  {
   "cell_type": "code",
   "execution_count": 8,
   "metadata": {
    "collapsed": false
   },
   "outputs": [
    {
     "name": "stderr",
     "output_type": "stream",
     "text": [
      "/project/lgrandi/anaconda3/envs/pax_head/lib/python3.4/site-packages/hax-2.5.0-py3.4.egg/hax/minitrees.py:611: UserWarning: Pandas doesn't allow columns to be created via a new attribute name - see https://pandas.pydata.org/pandas-docs/stable/indexing.html#attribute-access\n",
      "  result.cut_history = store.get_storer('data').attrs.cut_history\n"
     ]
    },
    {
     "name": "stdout",
     "output_type": "stream",
     "text": [
      "Unnamed selection: 2869656 rows removed (11.11% passed)\n"
     ]
    },
    {
     "name": "stderr",
     "output_type": "stream",
     "text": [
      "/project/lgrandi/anaconda3/envs/pax_head/lib/python3.4/site-packages/hax-2.5.0-py3.4.egg/hax/cuts.py:130: UserWarning: Pandas doesn't allow columns to be created via a new attribute name - see https://pandas.pydata.org/pandas-docs/stable/indexing.html#attribute-access\n",
      "  d.cut_history = prev_cuts + [passthrough_dict]\n"
     ]
    },
    {
     "name": "stdout",
     "output_type": "stream",
     "text": [
      "Unnamed selection: 275285 rows removed (23.28% passed)\n",
      "Unnamed selection: 3328 rows removed (96.02% passed)\n",
      "Unnamed selection: 2703 rows removed (96.63% passed)\n",
      "Unnamed selection: 309 rows removed (99.60% passed)\n",
      "Unnamed selection: 9136 rows removed (88.16% passed)\n",
      "Unnamed selection: 0 rows removed (100.00% passed)\n",
      "Unnamed selection: 0 rows removed (100.00% passed)\n",
      "Unnamed selection: 1141 rows removed (98.32% passed)\n",
      "Unnamed selection: 486 rows removed (99.27% passed)\n",
      "Unnamed selection: 75 rows removed (99.89% passed)\n"
     ]
    }
   ],
   "source": [
    "file3 = bg_path + 'bkg_SR1_pax6.10.1_p3.haxcache'\n",
    "data3 = hax.minitrees.load_cache_file(file3)\n",
    "\n",
    "data3['CutFiducialization'] = (data3['z_3d_nn_tf'] < -13.45)&(data3['z_3d_nn_tf'] > -83.45)&(data3['r_3d_nn_tf'] < 39.85)\n",
    "data3 = hax.cuts.selection(data3, data3['CutFiducialization'] == True)\n",
    "\n",
    "data3 = classify(data3)\n",
    "data3 = hax.cuts.selection(data3, data3['CutS2SingleScatterHE'] == True)\n",
    "\n",
    "data3 = CutS2Threshold.process(data3)\n",
    "data3 = hax.cuts.selection(data3, data3['CutS2Threshold'] == True)\n",
    "\n",
    "data3 = CS2AFT_Extended.process(data3)\n",
    "data3 = hax.cuts.selection(data3, data3['CutCS2AreaFractionTopExtended'] == True)\n",
    "\n",
    "data3 = CutInteractionsPeaksBiggest.process(data3)\n",
    "data3 = hax.cuts.selection(data3, data3['CutInteractionPeaksBiggest'] == True)\n",
    "\n",
    "data3 = CutS2Width.process(data3)\n",
    "data3 = hax.cuts.selection(data3, data3['CutS2Width'] == True)\n",
    "\n",
    "data3['CutS1PatternFitExist'] = np.isnan(data3['s1_pattern_fit'])\n",
    "data3['CutCS2bExist'] = np.isnan(data3['cs2_bottom_nn_tf'])\n",
    "data3 = hax.cuts.selection(data3, data3['CutS1PatternFitExist'] == False)\n",
    "data3 = hax.cuts.selection(data3, data3['CutCS2bExist'] == False)\n",
    "\n",
    "data3 = S2PatternLikelihood_HE(data3)\n",
    "data3 = hax.cuts.selection(data3, data3['CutS2PatternLikelihoodHE'] == True)\n",
    "\n",
    "data3 = CutDAQVeto.process(data3)\n",
    "data3 = hax.cuts.selection(data3, data3['CutDAQVeto'] == True)\n",
    "\n",
    "data3 = CutFlash.process(data3)\n",
    "data3 = hax.cuts.selection(data3, data3['CutFlash'] == True)"
   ]
  },
  {
   "cell_type": "code",
   "execution_count": 9,
   "metadata": {
    "collapsed": false
   },
   "outputs": [
    {
     "name": "stderr",
     "output_type": "stream",
     "text": [
      "/project/lgrandi/anaconda3/envs/pax_head/lib/python3.4/site-packages/hax-2.5.0-py3.4.egg/hax/minitrees.py:611: UserWarning: Pandas doesn't allow columns to be created via a new attribute name - see https://pandas.pydata.org/pandas-docs/stable/indexing.html#attribute-access\n",
      "  result.cut_history = store.get_storer('data').attrs.cut_history\n"
     ]
    },
    {
     "name": "stdout",
     "output_type": "stream",
     "text": [
      "Unnamed selection: 2837268 rows removed (10.93% passed)\n"
     ]
    },
    {
     "name": "stderr",
     "output_type": "stream",
     "text": [
      "/project/lgrandi/anaconda3/envs/pax_head/lib/python3.4/site-packages/hax-2.5.0-py3.4.egg/hax/cuts.py:130: UserWarning: Pandas doesn't allow columns to be created via a new attribute name - see https://pandas.pydata.org/pandas-docs/stable/indexing.html#attribute-access\n",
      "  d.cut_history = prev_cuts + [passthrough_dict]\n"
     ]
    },
    {
     "name": "stdout",
     "output_type": "stream",
     "text": [
      "Unnamed selection: 269459 rows removed (22.61% passed)\n",
      "Unnamed selection: 3062 rows removed (96.11% passed)\n",
      "Unnamed selection: 2482 rows removed (96.72% passed)\n",
      "Unnamed selection: 262 rows removed (99.64% passed)\n",
      "Unnamed selection: 9378 rows removed (87.14% passed)\n",
      "Unnamed selection: 0 rows removed (100.00% passed)\n",
      "Unnamed selection: 0 rows removed (100.00% passed)\n",
      "Unnamed selection: 1109 rows removed (98.25% passed)\n",
      "Unnamed selection: 599 rows removed (99.04% passed)\n",
      "Unnamed selection: 29 rows removed (99.95% passed)\n"
     ]
    }
   ],
   "source": [
    "file4 = bg_path + 'bkg_SR1_pax6.10.1_p4.haxcache'\n",
    "data4 = hax.minitrees.load_cache_file(file4)\n",
    "\n",
    "data4['CutFiducialization'] = (data4['z_3d_nn_tf'] < -13.45)&(data4['z_3d_nn_tf'] > -83.45)&(data4['r_3d_nn_tf'] < 39.85)\n",
    "data4 = hax.cuts.selection(data4, data4['CutFiducialization'] == True)\n",
    "\n",
    "data4 = classify(data4)\n",
    "data4 = hax.cuts.selection(data4, data4['CutS2SingleScatterHE'] == True)\n",
    "\n",
    "data4 = CutS2Threshold.process(data4)\n",
    "data4 = hax.cuts.selection(data4, data4['CutS2Threshold'] == True)\n",
    "\n",
    "data4 = CS2AFT_Extended.process(data4)\n",
    "data4 = hax.cuts.selection(data4, data4['CutCS2AreaFractionTopExtended'] == True)\n",
    "\n",
    "data4 = CutInteractionsPeaksBiggest.process(data4)\n",
    "data4 = hax.cuts.selection(data4, data4['CutInteractionPeaksBiggest'] == True)\n",
    "\n",
    "data4 = CutS2Width.process(data4)\n",
    "data4 = hax.cuts.selection(data4, data4['CutS2Width'] == True)\n",
    "\n",
    "data4['CutS1PatternFitExist'] = np.isnan(data4['s1_pattern_fit'])\n",
    "data4['CutCS2bExist'] = np.isnan(data4['cs2_bottom_nn_tf'])\n",
    "data4 = hax.cuts.selection(data4, data4['CutS1PatternFitExist'] == False)\n",
    "data4 = hax.cuts.selection(data4, data4['CutCS2bExist'] == False)\n",
    "\n",
    "data4 = S2PatternLikelihood_HE(data4)\n",
    "data4 = hax.cuts.selection(data4, data4['CutS2PatternLikelihoodHE'] == True)\n",
    "\n",
    "data4 = CutDAQVeto.process(data4)\n",
    "data4 = hax.cuts.selection(data4, data4['CutDAQVeto'] == True)\n",
    "\n",
    "data4 = CutFlash.process(data4)\n",
    "data4 = hax.cuts.selection(data4, data4['CutFlash'] == True)"
   ]
  },
  {
   "cell_type": "code",
   "execution_count": 10,
   "metadata": {
    "collapsed": false
   },
   "outputs": [
    {
     "name": "stderr",
     "output_type": "stream",
     "text": [
      "/project/lgrandi/anaconda3/envs/pax_head/lib/python3.4/site-packages/hax-2.5.0-py3.4.egg/hax/minitrees.py:611: UserWarning: Pandas doesn't allow columns to be created via a new attribute name - see https://pandas.pydata.org/pandas-docs/stable/indexing.html#attribute-access\n",
      "  result.cut_history = store.get_storer('data').attrs.cut_history\n"
     ]
    },
    {
     "name": "stdout",
     "output_type": "stream",
     "text": [
      "Unnamed selection: 2854580 rows removed (10.90% passed)\n"
     ]
    },
    {
     "name": "stderr",
     "output_type": "stream",
     "text": [
      "/project/lgrandi/anaconda3/envs/pax_head/lib/python3.4/site-packages/hax-2.5.0-py3.4.egg/hax/cuts.py:130: UserWarning: Pandas doesn't allow columns to be created via a new attribute name - see https://pandas.pydata.org/pandas-docs/stable/indexing.html#attribute-access\n",
      "  d.cut_history = prev_cuts + [passthrough_dict]\n"
     ]
    },
    {
     "name": "stdout",
     "output_type": "stream",
     "text": [
      "Unnamed selection: 270124 rows removed (22.68% passed)\n",
      "Unnamed selection: 2977 rows removed (96.24% passed)\n",
      "Unnamed selection: 2592 rows removed (96.60% passed)\n",
      "Unnamed selection: 305 rows removed (99.59% passed)\n",
      "Unnamed selection: 9293 rows removed (87.33% passed)\n",
      "Unnamed selection: 0 rows removed (100.00% passed)\n",
      "Unnamed selection: 0 rows removed (100.00% passed)\n",
      "Unnamed selection: 1168 rows removed (98.18% passed)\n",
      "Unnamed selection: 598 rows removed (99.05% passed)\n",
      "Unnamed selection: 82 rows removed (99.87% passed)\n"
     ]
    }
   ],
   "source": [
    "file5 = bg_path + 'bkg_SR1_pax6.10.1_p5.haxcache'\n",
    "data5 = hax.minitrees.load_cache_file(file5)\n",
    "\n",
    "data5['CutFiducialization'] = (data5['z_3d_nn_tf'] < -13.45)&(data5['z_3d_nn_tf'] > -83.45)&(data5['r_3d_nn_tf'] < 39.85)\n",
    "data5 = hax.cuts.selection(data5, data5['CutFiducialization'] == True)\n",
    "\n",
    "data5 = classify(data5)\n",
    "data5 = hax.cuts.selection(data5, data5['CutS2SingleScatterHE'] == True)\n",
    "\n",
    "data5 = CutS2Threshold.process(data5)\n",
    "data5 = hax.cuts.selection(data5, data5['CutS2Threshold'] == True)\n",
    "\n",
    "data5 = CS2AFT_Extended.process(data5)\n",
    "data5 = hax.cuts.selection(data5, data5['CutCS2AreaFractionTopExtended'] == True)\n",
    "\n",
    "data5 = CutInteractionsPeaksBiggest.process(data5)\n",
    "data5 = hax.cuts.selection(data5, data5['CutInteractionPeaksBiggest'] == True)\n",
    "\n",
    "data5 = CutS2Width.process(data5)\n",
    "data5 = hax.cuts.selection(data5, data5['CutS2Width'] == True)\n",
    "\n",
    "data5['CutS1PatternFitExist'] = np.isnan(data5['s1_pattern_fit'])\n",
    "data5['CutCS2bExist'] = np.isnan(data5['cs2_bottom_nn_tf'])\n",
    "data5 = hax.cuts.selection(data5, data5['CutS1PatternFitExist'] == False)\n",
    "data5 = hax.cuts.selection(data5, data5['CutCS2bExist'] == False)\n",
    "\n",
    "data5 = S2PatternLikelihood_HE(data5)\n",
    "data5 = hax.cuts.selection(data5, data5['CutS2PatternLikelihoodHE'] == True)\n",
    "\n",
    "data5 = CutDAQVeto.process(data5)\n",
    "data5 = hax.cuts.selection(data5, data5['CutDAQVeto'] == True)\n",
    "\n",
    "data5 = CutFlash.process(data5)\n",
    "data5 = hax.cuts.selection(data5, data5['CutFlash'] == True)"
   ]
  },
  {
   "cell_type": "code",
   "execution_count": 11,
   "metadata": {
    "collapsed": false
   },
   "outputs": [
    {
     "name": "stderr",
     "output_type": "stream",
     "text": [
      "/project/lgrandi/anaconda3/envs/pax_head/lib/python3.4/site-packages/hax-2.5.0-py3.4.egg/hax/minitrees.py:611: UserWarning: Pandas doesn't allow columns to be created via a new attribute name - see https://pandas.pydata.org/pandas-docs/stable/indexing.html#attribute-access\n",
      "  result.cut_history = store.get_storer('data').attrs.cut_history\n"
     ]
    },
    {
     "name": "stdout",
     "output_type": "stream",
     "text": [
      "Unnamed selection: 2833343 rows removed (10.92% passed)\n"
     ]
    },
    {
     "name": "stderr",
     "output_type": "stream",
     "text": [
      "/project/lgrandi/anaconda3/envs/pax_head/lib/python3.4/site-packages/hax-2.5.0-py3.4.egg/hax/cuts.py:130: UserWarning: Pandas doesn't allow columns to be created via a new attribute name - see https://pandas.pydata.org/pandas-docs/stable/indexing.html#attribute-access\n",
      "  d.cut_history = prev_cuts + [passthrough_dict]\n"
     ]
    },
    {
     "name": "stdout",
     "output_type": "stream",
     "text": [
      "Unnamed selection: 267512 rows removed (22.94% passed)\n",
      "Unnamed selection: 2811 rows removed (96.47% passed)\n",
      "Unnamed selection: 2540 rows removed (96.69% passed)\n",
      "Unnamed selection: 341 rows removed (99.54% passed)\n",
      "Unnamed selection: 9390 rows removed (87.30% passed)\n",
      "Unnamed selection: 0 rows removed (100.00% passed)\n",
      "Unnamed selection: 0 rows removed (100.00% passed)\n",
      "Unnamed selection: 1178 rows removed (98.18% passed)\n",
      "Unnamed selection: 511 rows removed (99.19% passed)\n",
      "Unnamed selection: 85 rows removed (99.86% passed)\n"
     ]
    }
   ],
   "source": [
    "file6 = bg_path + 'bkg_SR1_pax6.10.1_p6.haxcache'\n",
    "data6 = hax.minitrees.load_cache_file(file6)\n",
    "\n",
    "data6['CutFiducialization'] = (data6['z_3d_nn_tf'] < -13.45)&(data6['z_3d_nn_tf'] > -83.45)&(data6['r_3d_nn_tf'] < 39.85)\n",
    "data6 = hax.cuts.selection(data6, data6['CutFiducialization'] == True)\n",
    "\n",
    "data6 = classify(data6)\n",
    "data6 = hax.cuts.selection(data6, data6['CutS2SingleScatterHE'] == True)\n",
    "\n",
    "data6 = CutS2Threshold.process(data6)\n",
    "data6 = hax.cuts.selection(data6, data6['CutS2Threshold'] == True)\n",
    "\n",
    "data6 = CS2AFT_Extended.process(data6)\n",
    "data6 = hax.cuts.selection(data6, data6['CutCS2AreaFractionTopExtended'] == True)\n",
    "\n",
    "data6 = CutInteractionsPeaksBiggest.process(data6)\n",
    "data6 = hax.cuts.selection(data6, data6['CutInteractionPeaksBiggest'] == True)\n",
    "\n",
    "data6 = CutS2Width.process(data6)\n",
    "data6 = hax.cuts.selection(data6, data6['CutS2Width'] == True)\n",
    "\n",
    "data6['CutS1PatternFitExist'] = np.isnan(data6['s1_pattern_fit'])\n",
    "data6['CutCS2bExist'] = np.isnan(data6['cs2_bottom_nn_tf'])\n",
    "data6 = hax.cuts.selection(data6, data6['CutS1PatternFitExist'] == False)\n",
    "data6 = hax.cuts.selection(data6, data6['CutCS2bExist'] == False)\n",
    "\n",
    "data6 = S2PatternLikelihood_HE(data6)\n",
    "data6 = hax.cuts.selection(data6, data6['CutS2PatternLikelihoodHE'] == True)\n",
    "\n",
    "data6 = CutDAQVeto.process(data6)\n",
    "data6 = hax.cuts.selection(data6, data6['CutDAQVeto'] == True)\n",
    "\n",
    "data6 = CutFlash.process(data6)\n",
    "data6 = hax.cuts.selection(data6, data6['CutFlash'] == True)"
   ]
  },
  {
   "cell_type": "code",
   "execution_count": 12,
   "metadata": {
    "collapsed": false
   },
   "outputs": [
    {
     "name": "stderr",
     "output_type": "stream",
     "text": [
      "/project/lgrandi/anaconda3/envs/pax_head/lib/python3.4/site-packages/hax-2.5.0-py3.4.egg/hax/minitrees.py:611: UserWarning: Pandas doesn't allow columns to be created via a new attribute name - see https://pandas.pydata.org/pandas-docs/stable/indexing.html#attribute-access\n",
      "  result.cut_history = store.get_storer('data').attrs.cut_history\n"
     ]
    },
    {
     "name": "stdout",
     "output_type": "stream",
     "text": [
      "Unnamed selection: 2752938 rows removed (10.68% passed)\n"
     ]
    },
    {
     "name": "stderr",
     "output_type": "stream",
     "text": [
      "/project/lgrandi/anaconda3/envs/pax_head/lib/python3.4/site-packages/hax-2.5.0-py3.4.egg/hax/cuts.py:130: UserWarning: Pandas doesn't allow columns to be created via a new attribute name - see https://pandas.pydata.org/pandas-docs/stable/indexing.html#attribute-access\n",
      "  d.cut_history = prev_cuts + [passthrough_dict]\n"
     ]
    },
    {
     "name": "stdout",
     "output_type": "stream",
     "text": [
      "Unnamed selection: 253617 rows removed (22.99% passed)\n",
      "Unnamed selection: 2628 rows removed (96.53% passed)\n",
      "Unnamed selection: 2283 rows removed (96.88% passed)\n",
      "Unnamed selection: 256 rows removed (99.64% passed)\n",
      "Unnamed selection: 8851 rows removed (87.45% passed)\n",
      "Unnamed selection: 0 rows removed (100.00% passed)\n",
      "Unnamed selection: 0 rows removed (100.00% passed)\n",
      "Unnamed selection: 1302 rows removed (97.89% passed)\n",
      "Unnamed selection: 460 rows removed (99.24% passed)\n",
      "Unnamed selection: 86 rows removed (99.86% passed)\n"
     ]
    }
   ],
   "source": [
    "file7 = bg_path + 'bkg_SR1_pax6.10.1_p7.haxcache'\n",
    "data7 = hax.minitrees.load_cache_file(file7)\n",
    "\n",
    "data7['CutFiducialization'] = (data7['z_3d_nn_tf'] < -13.45)&(data7['z_3d_nn_tf'] > -83.45)&(data7['r_3d_nn_tf'] < 39.85)\n",
    "data7 = hax.cuts.selection(data7, data7['CutFiducialization'] == True)\n",
    "\n",
    "data7 = classify(data7)\n",
    "data7 = hax.cuts.selection(data7, data7['CutS2SingleScatterHE'] == True)\n",
    "\n",
    "data7 = CutS2Threshold.process(data7)\n",
    "data7 = hax.cuts.selection(data7, data7['CutS2Threshold'] == True)\n",
    "\n",
    "data7 = CS2AFT_Extended.process(data7)\n",
    "data7 = hax.cuts.selection(data7, data7['CutCS2AreaFractionTopExtended'] == True)\n",
    "\n",
    "data7 = CutInteractionsPeaksBiggest.process(data7)\n",
    "data7 = hax.cuts.selection(data7, data7['CutInteractionPeaksBiggest'] == True)\n",
    "\n",
    "data7 = CutS2Width.process(data7)\n",
    "data7 = hax.cuts.selection(data7, data7['CutS2Width'] == True)\n",
    "\n",
    "data7['CutS1PatternFitExist'] = np.isnan(data7['s1_pattern_fit'])\n",
    "data7['CutCS2bExist'] = np.isnan(data7['cs2_bottom_nn_tf'])\n",
    "data7 = hax.cuts.selection(data7, data7['CutS1PatternFitExist'] == False)\n",
    "data7 = hax.cuts.selection(data7, data7['CutCS2bExist'] == False)\n",
    "\n",
    "data7 = S2PatternLikelihood_HE(data7)\n",
    "data7 = hax.cuts.selection(data7, data7['CutS2PatternLikelihoodHE'] == True)\n",
    "\n",
    "data7 = CutDAQVeto.process(data7)\n",
    "data7 = hax.cuts.selection(data7, data7['CutDAQVeto'] == True)\n",
    "\n",
    "data7 = CutFlash.process(data7)\n",
    "data7 = hax.cuts.selection(data7, data7['CutFlash'] == True)"
   ]
  },
  {
   "cell_type": "raw",
   "metadata": {
    "collapsed": false
   },
   "source": [
    "file8 = bg_path + 'bkg_SR1_pax6.10.1_p8.haxcache'\n",
    "data8 = hax.minitrees.load_cache_file(file8)\n",
    "\n",
    "data8['CutFiducialization'] = (data8['z_3d_nn_tf'] < -13.45)&(data8['z_3d_nn_tf'] > -83.45)&(data8['r_3d_nn_tf'] < 39.85)\n",
    "data8 = hax.cuts.selection(data8, data8['CutFiducialization'] == True)\n",
    "\n",
    "data8 = classify(data8)\n",
    "data8 = hax.cuts.selection(data8, data8['CutS2SingleScatterHE'] == True)\n",
    "\n",
    "data8 = CutS2Threshold.process(data8)\n",
    "data8 = hax.cuts.selection(data8, data8['CutS2Threshold'] == True)\n",
    "\n",
    "data8 = CS2AFT_Extended.process(data8)\n",
    "data8 = hax.cuts.selection(data8, data8['CutCS2AreaFractionTopExtended'] == True)\n",
    "\n",
    "data8 = CutInteractionsPeaksBiggest.process(data8)\n",
    "data8 = hax.cuts.selection(data8, data8['CutInteractionPeaksBiggest'] == True)\n",
    "\n",
    "data8 = CutS2Width.process(data8)\n",
    "data8 = hax.cuts.selection(data8, data8['CutS2Width'] == True)\n",
    "\n",
    "data8['CutS1PatternFitExist'] = np.isnan(data8['s1_pattern_fit'])\n",
    "data8['CutCS2bExist'] = np.isnan(data8['cs2_bottom_nn_tf'])\n",
    "data8 = hax.cuts.selection(data8, data8['CutS1PatternFitExist'] == False)\n",
    "data8 = hax.cuts.selection(data8, data8['CutCS2bExist'] == False)\n",
    "\n",
    "data8 = S2PatternLikelihood_HE(data8)\n",
    "data8 = hax.cuts.selection(data8, data8['CutS2PatternLikelihoodHE'] == True)\n",
    "\n",
    "data8 = CutDAQVeto.process(data8)\n",
    "data8 = hax.cuts.selection(data8, data8['CutDAQVeto'] == True)\n",
    "\n",
    "data8 = CutFlash.process(data8)\n",
    "data8 = hax.cuts.selection(data8, data8['CutFlash'] == True)"
   ]
  },
  {
   "cell_type": "code",
   "execution_count": 14,
   "metadata": {
    "collapsed": false
   },
   "outputs": [
    {
     "name": "stderr",
     "output_type": "stream",
     "text": [
      "/project/lgrandi/anaconda3/envs/pax_head/lib/python3.4/site-packages/hax-2.5.0-py3.4.egg/hax/minitrees.py:611: UserWarning: Pandas doesn't allow columns to be created via a new attribute name - see https://pandas.pydata.org/pandas-docs/stable/indexing.html#attribute-access\n",
      "  result.cut_history = store.get_storer('data').attrs.cut_history\n"
     ]
    },
    {
     "name": "stdout",
     "output_type": "stream",
     "text": [
      "Unnamed selection: 2666976 rows removed (12.54% passed)\n"
     ]
    },
    {
     "name": "stderr",
     "output_type": "stream",
     "text": [
      "/project/lgrandi/anaconda3/envs/pax_head/lib/python3.4/site-packages/hax-2.5.0-py3.4.egg/hax/cuts.py:130: UserWarning: Pandas doesn't allow columns to be created via a new attribute name - see https://pandas.pydata.org/pandas-docs/stable/indexing.html#attribute-access\n",
      "  d.cut_history = prev_cuts + [passthrough_dict]\n"
     ]
    },
    {
     "name": "stdout",
     "output_type": "stream",
     "text": [
      "Unnamed selection: 285942 rows removed (25.25% passed)\n",
      "Unnamed selection: 2785 rows removed (97.12% passed)\n",
      "Unnamed selection: 3274 rows removed (96.51% passed)\n",
      "Unnamed selection: 334 rows removed (99.63% passed)\n",
      "Unnamed selection: 13446 rows removed (85.09% passed)\n",
      "Unnamed selection: 0 rows removed (100.00% passed)\n",
      "Unnamed selection: 0 rows removed (100.00% passed)\n",
      "Unnamed selection: 2364 rows removed (96.92% passed)\n",
      "Unnamed selection: 743 rows removed (99.00% passed)\n",
      "Unnamed selection: 106 rows removed (99.86% passed)\n"
     ]
    }
   ],
   "source": [
    "file9 = bg_path + 'bkg_SR1_pax6.10.1_p9.haxcache'\n",
    "data9 = hax.minitrees.load_cache_file(file9)\n",
    "\n",
    "data9['CutFiducialization'] = (data9['z_3d_nn_tf'] < -13.45)&(data9['z_3d_nn_tf'] > -93.45)&(data9['r_3d_nn_tf'] < 39.95)\n",
    "data9 = hax.cuts.selection(data9, data9['CutFiducialization'] == True)\n",
    "\n",
    "data9 = classify(data9)\n",
    "data9 = hax.cuts.selection(data9, data9['CutS2SingleScatterHE'] == True)\n",
    "\n",
    "data9 = CutS2Threshold.process(data9)\n",
    "data9 = hax.cuts.selection(data9, data9['CutS2Threshold'] == True)\n",
    "\n",
    "data9 = CS2AFT_Extended.process(data9)\n",
    "data9 = hax.cuts.selection(data9, data9['CutCS2AreaFractionTopExtended'] == True)\n",
    "\n",
    "data9 = CutInteractionsPeaksBiggest.process(data9)\n",
    "data9 = hax.cuts.selection(data9, data9['CutInteractionPeaksBiggest'] == True)\n",
    "\n",
    "data9 = CutS2Width.process(data9)\n",
    "data9 = hax.cuts.selection(data9, data9['CutS2Width'] == True)\n",
    "\n",
    "data9['CutS1PatternFitExist'] = np.isnan(data9['s1_pattern_fit'])\n",
    "data9['CutCS2bExist'] = np.isnan(data9['cs2_bottom_nn_tf'])\n",
    "data9 = hax.cuts.selection(data9, data9['CutS1PatternFitExist'] == False)\n",
    "data9 = hax.cuts.selection(data9, data9['CutCS2bExist'] == False)\n",
    "\n",
    "data9 = S2PatternLikelihood_HE(data9)\n",
    "data9 = hax.cuts.selection(data9, data9['CutS2PatternLikelihoodHE'] == True)\n",
    "\n",
    "data9 = CutDAQVeto.process(data9)\n",
    "data9 = hax.cuts.selection(data9, data9['CutDAQVeto'] == True)\n",
    "\n",
    "data9 = CutFlash.process(data9)\n",
    "data9 = hax.cuts.selection(data9, data9['CutFlash'] == True)"
   ]
  },
  {
   "cell_type": "code",
   "execution_count": 15,
   "metadata": {
    "collapsed": false
   },
   "outputs": [
    {
     "name": "stderr",
     "output_type": "stream",
     "text": [
      "/project/lgrandi/anaconda3/envs/pax_head/lib/python3.4/site-packages/hax-2.5.0-py3.4.egg/hax/minitrees.py:611: UserWarning: Pandas doesn't allow columns to be created via a new attribute name - see https://pandas.pydata.org/pandas-docs/stable/indexing.html#attribute-access\n",
      "  result.cut_history = store.get_storer('data').attrs.cut_history\n"
     ]
    },
    {
     "name": "stdout",
     "output_type": "stream",
     "text": [
      "Unnamed selection: 2626905 rows removed (12.97% passed)\n"
     ]
    },
    {
     "name": "stderr",
     "output_type": "stream",
     "text": [
      "/project/lgrandi/anaconda3/envs/pax_head/lib/python3.4/site-packages/hax-2.5.0-py3.4.egg/hax/cuts.py:130: UserWarning: Pandas doesn't allow columns to be created via a new attribute name - see https://pandas.pydata.org/pandas-docs/stable/indexing.html#attribute-access\n",
      "  d.cut_history = prev_cuts + [passthrough_dict]\n"
     ]
    },
    {
     "name": "stdout",
     "output_type": "stream",
     "text": [
      "Unnamed selection: 276115 rows removed (29.47% passed)\n",
      "Unnamed selection: 2872 rows removed (97.51% passed)\n",
      "Unnamed selection: 2599 rows removed (97.69% passed)\n",
      "Unnamed selection: 374 rows removed (99.66% passed)\n",
      "Unnamed selection: 16812 rows removed (84.65% passed)\n",
      "Unnamed selection: 0 rows removed (100.00% passed)\n",
      "Unnamed selection: 0 rows removed (100.00% passed)\n",
      "Unnamed selection: 3142 rows removed (96.61% passed)\n",
      "Unnamed selection: 507 rows removed (99.43% passed)\n",
      "Unnamed selection: 105 rows removed (99.88% passed)\n"
     ]
    }
   ],
   "source": [
    "file10 = bg_path + 'bkg_SR1_pax6.10.1_p10.haxcache'\n",
    "data10 = hax.minitrees.load_cache_file(file10)\n",
    "\n",
    "data10['CutFiducialization'] = (data10['z_3d_nn_tf'] < -13.45)&(data10['z_3d_nn_tf'] > -103.45)&(data10['r_3d_nn_tf'] < 39.105)\n",
    "data10 = hax.cuts.selection(data10, data10['CutFiducialization'] == True)\n",
    "\n",
    "data10 = classify(data10)\n",
    "data10 = hax.cuts.selection(data10, data10['CutS2SingleScatterHE'] == True)\n",
    "\n",
    "data10 = CutS2Threshold.process(data10)\n",
    "data10 = hax.cuts.selection(data10, data10['CutS2Threshold'] == True)\n",
    "\n",
    "data10 = CS2AFT_Extended.process(data10)\n",
    "data10 = hax.cuts.selection(data10, data10['CutCS2AreaFractionTopExtended'] == True)\n",
    "\n",
    "data10 = CutInteractionsPeaksBiggest.process(data10)\n",
    "data10 = hax.cuts.selection(data10, data10['CutInteractionPeaksBiggest'] == True)\n",
    "\n",
    "data10 = CutS2Width.process(data10)\n",
    "data10 = hax.cuts.selection(data10, data10['CutS2Width'] == True)\n",
    "\n",
    "data10['CutS1PatternFitExist'] = np.isnan(data10['s1_pattern_fit'])\n",
    "data10['CutCS2bExist'] = np.isnan(data10['cs2_bottom_nn_tf'])\n",
    "data10 = hax.cuts.selection(data10, data10['CutS1PatternFitExist'] == False)\n",
    "data10 = hax.cuts.selection(data10, data10['CutCS2bExist'] == False)\n",
    "\n",
    "data10 = S2PatternLikelihood_HE(data10)\n",
    "data10 = hax.cuts.selection(data10, data10['CutS2PatternLikelihoodHE'] == True)\n",
    "\n",
    "data10 = CutDAQVeto.process(data10)\n",
    "data10 = hax.cuts.selection(data10, data10['CutDAQVeto'] == True)\n",
    "\n",
    "data10 = CutFlash.process(data10)\n",
    "data10 = hax.cuts.selection(data10, data10['CutFlash'] == True)"
   ]
  },
  {
   "cell_type": "code",
   "execution_count": 18,
   "metadata": {
    "collapsed": false
   },
   "outputs": [
    {
     "name": "stderr",
     "output_type": "stream",
     "text": [
      "/project/lgrandi/anaconda3/envs/pax_head/lib/python3.4/site-packages/hax-2.5.0-py3.4.egg/hax/minitrees.py:611: UserWarning: Pandas doesn't allow columns to be created via a new attribute name - see https://pandas.pydata.org/pandas-docs/stable/indexing.html#attribute-access\n",
      "  result.cut_history = store.get_storer('data').attrs.cut_history\n"
     ]
    },
    {
     "name": "stdout",
     "output_type": "stream",
     "text": [
      "Unnamed selection: 2636332 rows removed (13.04% passed)\n"
     ]
    },
    {
     "name": "stderr",
     "output_type": "stream",
     "text": [
      "/project/lgrandi/anaconda3/envs/pax_head/lib/python3.4/site-packages/hax-2.5.0-py3.4.egg/hax/cuts.py:130: UserWarning: Pandas doesn't allow columns to be created via a new attribute name - see https://pandas.pydata.org/pandas-docs/stable/indexing.html#attribute-access\n",
      "  d.cut_history = prev_cuts + [passthrough_dict]\n"
     ]
    },
    {
     "name": "stdout",
     "output_type": "stream",
     "text": [
      "Unnamed selection: 278597 rows removed (29.52% passed)\n",
      "Unnamed selection: 2984 rows removed (97.44% passed)\n",
      "Unnamed selection: 2794 rows removed (97.54% passed)\n",
      "Unnamed selection: 361 rows removed (99.67% passed)\n",
      "Unnamed selection: 17385 rows removed (84.27% passed)\n",
      "Unnamed selection: 0 rows removed (100.00% passed)\n",
      "Unnamed selection: 0 rows removed (100.00% passed)\n",
      "Unnamed selection: 3454 rows removed (96.29% passed)\n",
      "Unnamed selection: 1155 rows removed (98.71% passed)\n",
      "Unnamed selection: 115 rows removed (99.87% passed)\n"
     ]
    }
   ],
   "source": [
    "file11 = bg_path + 'bkg_SR1_pax6.10.1_p11.haxcache'\n",
    "data11 = hax.minitrees.load_cache_file(file11)\n",
    "\n",
    "data11['CutFiducialization'] = (data11['z_3d_nn_tf'] < -13.45)&(data11['z_3d_nn_tf'] > -113.45)&(data11['r_3d_nn_tf'] < 39.115)\n",
    "data11 = hax.cuts.selection(data11, data11['CutFiducialization'] == True)\n",
    "\n",
    "data11 = classify(data11)\n",
    "data11 = hax.cuts.selection(data11, data11['CutS2SingleScatterHE'] == True)\n",
    "\n",
    "data11 = CutS2Threshold.process(data11)\n",
    "data11 = hax.cuts.selection(data11, data11['CutS2Threshold'] == True)\n",
    "\n",
    "data11 = CS2AFT_Extended.process(data11)\n",
    "data11 = hax.cuts.selection(data11, data11['CutCS2AreaFractionTopExtended'] == True)\n",
    "\n",
    "data11 = CutInteractionsPeaksBiggest.process(data11)\n",
    "data11 = hax.cuts.selection(data11, data11['CutInteractionPeaksBiggest'] == True)\n",
    "\n",
    "data11 = CutS2Width.process(data11)\n",
    "data11 = hax.cuts.selection(data11, data11['CutS2Width'] == True)\n",
    "\n",
    "data11['CutS1PatternFitExist'] = np.isnan(data11['s1_pattern_fit'])\n",
    "data11['CutCS2bExist'] = np.isnan(data11['cs2_bottom_nn_tf'])\n",
    "data11 = hax.cuts.selection(data11, data11['CutS1PatternFitExist'] == False)\n",
    "data11 = hax.cuts.selection(data11, data11['CutCS2bExist'] == False)\n",
    "\n",
    "data11 = S2PatternLikelihood_HE(data11)\n",
    "data11 = hax.cuts.selection(data11, data11['CutS2PatternLikelihoodHE'] == True)\n",
    "\n",
    "data11 = CutDAQVeto.process(data11)\n",
    "data11 = hax.cuts.selection(data11, data11['CutDAQVeto'] == True)\n",
    "\n",
    "data11 = CutFlash.process(data11)\n",
    "data11 = hax.cuts.selection(data11, data11['CutFlash'] == True)"
   ]
  },
  {
   "cell_type": "code",
   "execution_count": 19,
   "metadata": {
    "collapsed": false
   },
   "outputs": [],
   "source": [
    "data = [data1, data2, data3, data4, data5, data6, data7, data9, data10, data11]\n",
    "data = pd.concat(data, ignore_index=True)\n",
    "del data1, data2, data3, data4, data5, data6, data7, data9, data10, data11"
   ]
  },
  {
   "cell_type": "markdown",
   "metadata": {},
   "source": [
    "### Some plots"
   ]
  },
  {
   "cell_type": "code",
   "execution_count": 20,
   "metadata": {
    "collapsed": false
   },
   "outputs": [],
   "source": [
    "W = 13.7 #eV\n",
    "g1 = 0.1432 + 0.000049*data['z_3d_nn']\n",
    "g2 = 11.63  + 0.009*data['z_3d_nn']\n",
    "\n",
    "data['CES'] = W*((data['cs1']/g1) + (data['cs2_bottom']/g2) )"
   ]
  },
  {
   "cell_type": "code",
   "execution_count": 21,
   "metadata": {
    "collapsed": false
   },
   "outputs": [
    {
     "data": {
      "image/png": "[encoded data removed]",
      "text/plain": [
       "<matplotlib.figure.Figure at 0x7f6eed1add30>"
      ]
     },
     "metadata": {},
     "output_type": "display_data"
    }
   ],
   "source": [
    "plt.figure(figsize=(12,8))\n",
    "plt.hist(data['CES']/10**3, bins = (700), \n",
    "         range=(0, 5000), \n",
    "         histtype='bar', color='darkorange',\n",
    "         alpha = 0.3)\n",
    "plt.hist(data['CES']/10**3, bins = (700), \n",
    "         range=(0, 5000), \n",
    "         histtype='step', color='red',\n",
    "         alpha = 1)\n",
    "plt.xlabel('Energy [KeV]')\n",
    "plt.ylabel('N/7 KeV')\n",
    "plt.yscale('log')"
   ]
  },
  {
   "cell_type": "code",
   "execution_count": 24,
   "metadata": {
    "collapsed": false
   },
   "outputs": [
    {
     "data": {
      "text/plain": [
       "<matplotlib.text.Text at 0x7f6e97f28860>"
      ]
     },
     "execution_count": 24,
     "metadata": {},
     "output_type": "execute_result"
    },
    {
     "name": "stderr",
     "output_type": "stream",
     "text": [
      "/project/lgrandi/anaconda3/envs/pax_head/lib/python3.4/site-packages/matplotlib/colors.py:927: RuntimeWarning: invalid value encountered in less_equal\n",
      "  mask |= resdat <= 0\n"
     ]
    },
    {
     "data": {
      "image/png": "[encoded data removed]",
      "text/plain": [
       "<matplotlib.figure.Figure at 0x7f6e9a25a128>"
      ]
     },
     "metadata": {},
     "output_type": "display_data"
    }
   ],
   "source": [
    "plt.figure(figsize=(18,8))\n",
    "plt.hist2d(data['cs1'], data['s1_pattern_fit_hax'], bins = (1000, 200), \n",
    "           range=((0,2e4), (0,2000)), \n",
    "           cmap=plt.cm.plasma, norm=matplotlib.colors.LogNorm(), \n",
    "           cmin = 1,alpha = 1)\n",
    "plt.colorbar(label='Number of events')\n",
    "plt.xlabel('s1 [PE]')\n",
    "plt.ylabel('s1_pattern_fit_hax')"
   ]
  },
  {
   "cell_type": "code",
   "execution_count": 25,
   "metadata": {
    "collapsed": true
   },
   "outputs": [],
   "source": [
    "data.to_pickle('/project/lgrandi/giovo/pickle_haxcache/pax_v6.10.1/BG_SR1_S1PL.pkl')"
   ]
  },
  {
   "cell_type": "code",
   "execution_count": null,
   "metadata": {
    "collapsed": true
   },
   "outputs": [],
   "source": []
  }
 ],
 "metadata": {
  "kernelspec": {
   "display_name": "Python 3",
   "language": "python",
   "name": "python3"
  },
  "language_info": {
   "codemirror_mode": {
    "name": "ipython",
    "version": 3
   },
   "file_extension": ".py",
   "mimetype": "text/x-python",
   "name": "python",
   "nbconvert_exporter": "python",
   "pygments_lexer": "ipython3",
   "version": "3.4.4"
  }
 },
 "nbformat": 4,
 "nbformat_minor": 2
}
