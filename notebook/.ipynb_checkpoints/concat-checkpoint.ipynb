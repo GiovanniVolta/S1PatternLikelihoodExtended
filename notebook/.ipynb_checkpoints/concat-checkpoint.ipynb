{
 "cells": [
  {
   "cell_type": "code",
   "execution_count": null,
   "metadata": {
    "collapsed": false
   },
   "outputs": [],
   "source": [
    "%run '/home/gvolta/Desktop/Function/Useful/Def.ipynb'"
   ]
  },
  {
   "cell_type": "code",
   "execution_count": null,
   "metadata": {
    "collapsed": true
   },
   "outputs": [],
   "source": [
    "from pax import units, configuration\n",
    "pax_config = configuration.load_configuration('XENON1T')['DEFAULT']\n",
    "tpc_height = pax_config['tpc_length']\n",
    "tpc_radius = pax_config['tpc_radius']\n",
    "\n",
    "import hax\n",
    "hax.init(experiment='XENON1T',\n",
    "         pax_version_policy = 'v6.10.1',\n",
    "         main_data_paths= ['/dali/lgrandi/xenon1t/processed/pax_v6.10.1'], \n",
    "         minitree_paths = ['/dali/lgrandi/giovo/minitrees/pax_v6.10.1',\n",
    "                           '/dali/lgrandi/xenon1t/minitrees/pax_v6.10.1'],\n",
    "         make_minitrees = False)\n",
    "\n",
    "%matplotlib inline"
   ]
  },
  {
   "cell_type": "code",
   "execution_count": null,
   "metadata": {
    "collapsed": true
   },
   "outputs": [],
   "source": [
    "dali_path = '/dali/lgrandi/giovo/pickle_haxcache/pax_v6.10.1/'\n",
    "project_path = '/project/lgrandi/giovo/pickle_haxcache/pax_v6.10.1/'"
   ]
  },
  {
   "cell_type": "code",
   "execution_count": null,
   "metadata": {
    "collapsed": true
   },
   "outputs": [],
   "source": [
    "file1 = project_path + 'Rn_1_SR1_S1PL.haxcache'\n",
    "data1 = hax.minitrees.load_cache_file(file1)\n",
    "file2 = project_path + 'Rn_1_S2PatternReducedAP.haxcache'\n",
    "data2 = hax.minitrees.load_cache_file(file2)"
   ]
  },
  {
   "cell_type": "code",
   "execution_count": null,
   "metadata": {
    "collapsed": false
   },
   "outputs": [],
   "source": [
    "#common = data1.merge(data2, on=['run_number', 'event_number'])"
   ]
  },
  {
   "cell_type": "code",
   "execution_count": null,
   "metadata": {
    "collapsed": true
   },
   "outputs": [],
   "source": [
    "file2 = project_path + 'Rn_2_cut_SR1_S1PL.pkl'\n",
    "data2 = pd.read_pickle(file2)"
   ]
  },
  {
   "cell_type": "code",
   "execution_count": null,
   "metadata": {
    "collapsed": true
   },
   "outputs": [],
   "source": [
    "file3 = project_path + 'Rn_3_cut_SR1_S1PL.pkl'\n",
    "data3 = pd.read_pickle(file3)"
   ]
  },
  {
   "cell_type": "code",
   "execution_count": null,
   "metadata": {
    "collapsed": true
   },
   "outputs": [],
   "source": [
    "file4 = project_path + 'NG_cut_SR1_S1PL.pkl'\n",
    "data4 = pd.read_pickle(file4)"
   ]
  },
  {
   "cell_type": "code",
   "execution_count": null,
   "metadata": {
    "collapsed": false
   },
   "outputs": [],
   "source": [
    "data = [data1, data2, data3, data4]\n",
    "data = pd.concat(data, ignore_index=True)\n",
    "del data1, data2, data3, data4"
   ]
  },
  {
   "cell_type": "code",
   "execution_count": null,
   "metadata": {
    "collapsed": false
   },
   "outputs": [],
   "source": [
    "plt.figure(figsize=(12,8))\n",
    "plt.hist(data['CES']/10**6, bins = (10000), \n",
    "         range=(0, 12), \n",
    "         histtype='step')\n",
    "plt.xlabel('Energy [MeV]')\n",
    "plt.ylabel('N')\n",
    "plt.yscale('log')\n",
    "\n",
    "plt.tight_layout()\n",
    "plt.show()"
   ]
  },
  {
   "cell_type": "code",
   "execution_count": null,
   "metadata": {
    "collapsed": true
   },
   "outputs": [],
   "source": [
    "data.to_pickle('/project/lgrandi/giovo/pickle_haxcache/pax_v6.10.1/data_cut_SR1_S1PL.pkl')"
   ]
  },
  {
   "cell_type": "code",
   "execution_count": null,
   "metadata": {
    "collapsed": true
   },
   "outputs": [],
   "source": []
  }
 ],
 "metadata": {
  "kernelspec": {
   "display_name": "Python 3",
   "language": "python",
   "name": "python3"
  },
  "language_info": {
   "codemirror_mode": {
    "name": "ipython",
    "version": 3
   },
   "file_extension": ".py",
   "mimetype": "text/x-python",
   "name": "python",
   "nbconvert_exporter": "python",
   "pygments_lexer": "ipython3",
   "version": "3.4.4"
  }
 },
 "nbformat": 4,
 "nbformat_minor": 2
}
