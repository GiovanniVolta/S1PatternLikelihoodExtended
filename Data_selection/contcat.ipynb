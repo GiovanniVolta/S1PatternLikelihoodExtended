{
 "cells": [
  {
   "cell_type": "code",
   "execution_count": 1,
   "metadata": {
    "collapsed": true
   },
   "outputs": [],
   "source": [
    "import numpy as np\n",
    "import pandas as pd"
   ]
  },
  {
   "cell_type": "code",
   "execution_count": 2,
   "metadata": {
    "collapsed": true
   },
   "outputs": [],
   "source": [
    "path_file = '/dali/lgrandi/giovo/pickle_haxcache/pax_v6.10.1/S1PL_data/bkg_1TFV/'"
   ]
  },
  {
   "cell_type": "code",
   "execution_count": 5,
   "metadata": {
    "collapsed": false
   },
   "outputs": [],
   "source": [
    "file_1  = path_file + 'bkg_cut_1TFV_SR1_pax6.10.1_p1.pkl'\n",
    "file_2  = path_file + 'bkg_cut_1TFV_SR1_pax6.10.1_p2.pkl'\n",
    "file_3  = path_file + 'bkg_cut_1TFV_SR1_pax6.10.1_p3.pkl'\n",
    "file_4  = path_file + 'bkg_cut_1TFV_SR1_pax6.10.1_p4.pkl'\n",
    "file_5  = path_file + 'bkg_cut_1TFV_SR1_pax6.10.1_p5.pkl'\n",
    "file_6  = path_file + 'bkg_cut_1TFV_SR1_pax6.10.1_p6.pkl'\n",
    "file_7  = path_file + 'bkg_cut_1TFV_SR1_pax6.10.1_p7.pkl'\n",
    "file_8  = path_file + 'bkg_cut_1TFV_SR1_pax6.10.1_p8.pkl'\n",
    "file_9  = path_file + 'bkg_cut_1TFV_SR1_pax6.10.1_p9.pkl'\n",
    "file_10 = path_file + 'bkg_cut_1TFV_SR1_pax6.10.1_p10.pkl'\n",
    "file_11 = path_file + 'bkg_cut_1TFV_SR1_pax6.10.1_p11.pkl'\n",
    "\n",
    "data1  = pd.read_pickle(file_1)\n",
    "data2  = pd.read_pickle(file_2)\n",
    "data3  = pd.read_pickle(file_3)\n",
    "data4  = pd.read_pickle(file_4)\n",
    "data5  = pd.read_pickle(file_5)\n",
    "data6  = pd.read_pickle(file_6)\n",
    "data7  = pd.read_pickle(file_7)\n",
    "data8  = pd.read_pickle(file_8)\n",
    "data9  = pd.read_pickle(file_9)\n",
    "data10 = pd.read_pickle(file_10)\n",
    "data11 = pd.read_pickle(file_11)\n",
    "\n",
    "data = [data1, data2, data3, data4, data5, data6, data7, data8, data9, data10, data11]\n",
    "data = pd.concat(data, ignore_index=True)\n",
    "del data1, data2, data3, data4, data5, data6, data7, data8, data9, data10, data11"
   ]
  },
  {
   "cell_type": "code",
   "execution_count": 6,
   "metadata": {
    "collapsed": false
   },
   "outputs": [
    {
     "ename": "NameError",
     "evalue": "name 'plt' is not defined",
     "output_type": "error",
     "traceback": [
      "\u001b[0;31m---------------------------------------------------------------------------\u001b[0m",
      "\u001b[0;31mNameError\u001b[0m                                 Traceback (most recent call last)",
      "\u001b[0;32m<ipython-input-6-125e3fa83961>\u001b[0m in \u001b[0;36m<module>\u001b[0;34m()\u001b[0m\n\u001b[0;32m----> 1\u001b[0;31m \u001b[0mplt\u001b[0m\u001b[0;34m.\u001b[0m\u001b[0mhist\u001b[0m\u001b[0;34m(\u001b[0m\u001b[0mdata\u001b[0m\u001b[0;34m[\u001b[0m\u001b[0;34m'z_3d_nn_tf'\u001b[0m\u001b[0;34m]\u001b[0m\u001b[0;34m)\u001b[0m\u001b[0;34m\u001b[0m\u001b[0m\n\u001b[0m\u001b[1;32m      2\u001b[0m \u001b[0mplt\u001b[0m\u001b[0;34m.\u001b[0m\u001b[0mshow\u001b[0m\u001b[0;34m(\u001b[0m\u001b[0;34m)\u001b[0m\u001b[0;34m\u001b[0m\u001b[0m\n",
      "\u001b[0;31mNameError\u001b[0m: name 'plt' is not defined"
     ]
    }
   ],
   "source": [
    "\n",
    "plt.hist(data['z_3d_nn_tf'])\n",
    "plt.show()"
   ]
  },
  {
   "cell_type": "code",
   "execution_count": null,
   "metadata": {
    "collapsed": false
   },
   "outputs": [],
   "source": [
    "data.to_pickle(path_file + 'bkg_cutted_1TFV_SR1_S1PL.pkl')"
   ]
  },
  {
   "cell_type": "code",
   "execution_count": null,
   "metadata": {
    "collapsed": true
   },
   "outputs": [],
   "source": []
  }
 ],
 "metadata": {
  "kernelspec": {
   "display_name": "Python 3",
   "language": "python",
   "name": "python3"
  },
  "language_info": {
   "codemirror_mode": {
    "name": "ipython",
    "version": 3
   },
   "file_extension": ".py",
   "mimetype": "text/x-python",
   "name": "python",
   "nbconvert_exporter": "python",
   "pygments_lexer": "ipython3",
   "version": "3.4.4"
  }
 },
 "nbformat": 4,
 "nbformat_minor": 2
}
