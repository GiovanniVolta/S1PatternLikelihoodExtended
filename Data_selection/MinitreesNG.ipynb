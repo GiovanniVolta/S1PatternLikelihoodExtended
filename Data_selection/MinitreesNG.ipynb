{
 "cells": [
  {
   "cell_type": "code",
   "execution_count": 1,
   "metadata": {
    "collapsed": false
   },
   "outputs": [
    {
     "name": "stdout",
     "output_type": "stream",
     "text": [
      "Initialization done, Notebook was last run on: 04/11/2019\n"
     ]
    }
   ],
   "source": [
    "%run '/home/gvolta/Desktop/Function/Useful/Def.ipynb'"
   ]
  },
  {
   "cell_type": "code",
   "execution_count": 39,
   "metadata": {
    "collapsed": true
   },
   "outputs": [],
   "source": [
    "import hax\n",
    "hax.init(experiment='XENON1T',\n",
    "         pax_version_policy = '6.10.1',\n",
    "         main_data_paths= ['/dali/lgrandi/xenon1t/processed/pax_v6.10.1'], \n",
    "         minitree_paths = [#'/home/gvolta/minitrees_test'\n",
    "                           #'/dali/lgrandi/xenon1t/minitrees/pax_v6.10.1',\n",
    "                           '/dali/lgrandi/giovo/minitrees/pax_v6.10.1',\n",
    "                           '/project/lgrandi/giovo/minitrees/pax_v6.10.1',\n",
    "                           '/dali/lgrandi/ctherreau/minitrees/pax_v6.10.1'\n",
    "                          ],\n",
    "         make_minitrees = True)"
   ]
  },
  {
   "cell_type": "code",
   "execution_count": 40,
   "metadata": {
    "collapsed": false
   },
   "outputs": [
    {
     "name": "stdout",
     "output_type": "stream",
     "text": [
      "\n",
      "###############\n",
      "Number of runs: 7404\n",
      "Total livetime: 305.57 days\n",
      "Start:  2017-02-09 01:10:53\n",
      "End:  2018-02-06 22:53:05\n",
      "###############\n",
      "\n"
     ]
    }
   ],
   "source": [
    "datasets = hax.runs.datasets\n",
    "datasets = hax.runs.tags_selection(datasets, include=['sciencerun1'],\n",
    "                                   exclude= ['bad','bad,waterfilling','waterfilling, bad','flash','messy','noise',\n",
    "                                   'afterpulse','hiccup','Flash','Hiccup', 'cathode_-5kV', 'cathode_-5kv'])\n",
    "datasets = datasets[(datasets.location != '')]\n",
    "print('\\n###############')\n",
    "print_info(datasets)\n",
    "print('###############\\n')\n",
    "\n",
    "datasets_selected = datasets[((datasets['source__type']==('neutron_generator')))]"
   ]
  },
  {
   "cell_type": "code",
   "execution_count": 41,
   "metadata": {
    "collapsed": false
   },
   "outputs": [
    {
     "name": "stderr",
     "output_type": "stream",
     "text": [
      "/cvmfs/xenon.opensciencegrid.org/releases/anaconda/2.4/envs/pax_head/lib/python3.4/site-packages/ipykernel/__main__.py:1: SettingWithCopyWarning: \n",
      "A value is trying to be set on a copy of a slice from a DataFrame.\n",
      "Try using .loc[row_indexer,col_indexer] = value instead\n",
      "\n",
      "See the caveats in the documentation: http://pandas.pydata.org/pandas-docs/stable/indexing.html#indexing-view-versus-copy\n",
      "  if __name__ == '__main__':\n"
     ]
    },
    {
     "data": {
      "text/plain": [
       "9395    01:00:04\n",
       "9419    00:10:03\n",
       "9428    01:00:04\n",
       "9460    00:10:04\n",
       "9600    01:00:03\n",
       "9603    01:00:04\n",
       "9618    01:00:03\n",
       "9624    01:00:03\n",
       "9632    01:00:13\n",
       "9633    00:10:03\n",
       "9654    01:00:16\n",
       "9681    01:00:03\n",
       "9690    01:00:03\n",
       "9691    01:00:05\n",
       "9692    01:00:03\n",
       "9730    01:00:12\n",
       "9733    01:00:04\n",
       "9737    01:00:04\n",
       "9744    01:00:03\n",
       "9757    01:00:04\n",
       "9768    01:00:03\n",
       "9777    01:00:04\n",
       "9791    01:00:03\n",
       "9795    01:00:03\n",
       "9834    01:00:04\n",
       "9841    01:00:03\n",
       "9846    01:00:04\n",
       "9849    01:35:51\n",
       "9852    01:00:03\n",
       "9865    01:00:03\n",
       "9869    01:00:03\n",
       "9904    01:00:03\n",
       "9913    01:00:03\n",
       "9920    01:00:03\n",
       "9923    01:00:04\n",
       "9942    01:00:02\n",
       "9945    01:00:03\n",
       "9951    01:00:03\n",
       "9968    01:00:03\n",
       "9986    01:00:03\n",
       "9990    01:00:03\n",
       "10004   01:00:03\n",
       "10009   01:00:03\n",
       "10017   01:00:03\n",
       "10041   01:00:03\n",
       "10061   01:00:03\n",
       "10078   01:00:03\n",
       "Name: duration, dtype: timedelta64[ns]"
      ]
     },
     "execution_count": 41,
     "metadata": {},
     "output_type": "execute_result"
    }
   ],
   "source": [
    "datasets_selected['duration'] = datasets_selected['end'].sub(datasets_selected['start'])\n",
    "datasets_selected['duration']"
   ]
  },
  {
   "cell_type": "code",
   "execution_count": 42,
   "metadata": {
    "collapsed": false
   },
   "outputs": [
    {
     "name": "stdout",
     "output_type": "stream",
     "text": [
      "\n",
      "###############\n",
      "Number of runs: 3\n",
      "Total livetime: 0.02 days\n",
      "Start:  2017-05-24 14:35:30\n",
      "End:  2017-05-25 15:41:44\n",
      "###############\n",
      "\n"
     ]
    }
   ],
   "source": [
    "datasets_selected = datasets_selected[datasets_selected['duration'] < '00:30:00']\n",
    "print('\\n###############')\n",
    "print_info(datasets_selected)\n",
    "print('###############\\n')"
   ]
  },
  {
   "cell_type": "code",
   "execution_count": null,
   "metadata": {
    "collapsed": true
   },
   "outputs": [],
   "source": []
  }
 ],
 "metadata": {
  "kernelspec": {
   "display_name": "Python 3",
   "language": "python",
   "name": "python3"
  },
  "language_info": {
   "codemirror_mode": {
    "name": "ipython",
    "version": 3
   },
   "file_extension": ".py",
   "mimetype": "text/x-python",
   "name": "python",
   "nbconvert_exporter": "python",
   "pygments_lexer": "ipython3",
   "version": "3.4.4"
  }
 },
 "nbformat": 4,
 "nbformat_minor": 2
}
